{
 "cells": [
  {
   "cell_type": "markdown",
   "metadata": {
    "slideshow": {
     "slide_type": "-"
    }
   },
   "source": [
    "# [Image Analyzer](#section1) \n",
    "<a id=\"section1\"></a>\n",
    "## Example using PySpark and Scikit-learn\n",
    "* Follow the steps in <a href=\"https://github.com/ContinuumIO/image-analyzer/blob/master/run_helper.sh\">run_helper.sh</a>, while using the default hdfs file naming in <a href=\"https://github.com/ContinuumIO/image-analyzer/blob/master/config.yaml\">config.yaml</a>\n",
    "* Then run each ipython notebook cell below to look at results\n",
    "* If the notebook examples do not work, check your config.yaml against the config shown at the bottom of the notebook\n",
    "* This notebook uses the example faces image <a href=\"http://cswww.essex.ac.uk/mv/allfaces/faces94.html\">data set of Dr. Libor Spacek</a>"
   ]
  },
  {
   "cell_type": "code",
   "execution_count": 1,
   "metadata": {
    "collapsed": false
   },
   "outputs": [],
   "source": [
    "%matplotlib inline\n",
    "from __future__ import print_function, division\n",
    "from pyspark import SparkConf\n",
    "from pyspark import SparkContext \n",
    "from StringIO import StringIO\n",
    "import matplotlib.pyplot as plt\n",
    "import numpy as np\n",
    "from pprint import pprint\n",
    "\n",
    "conf = SparkConf()\n",
    "conf.set('spark.executor.instances', 2)\n",
    "sc = SparkContext()\n"
   ]
  },
  {
   "cell_type": "markdown",
   "metadata": {},
   "source": [
    "#### ['config' below shows the yaml config file loaded for this example](#config)\n",
    "<a id=\"config\"></a>"
   ]
  },
  {
   "cell_type": "code",
   "execution_count": 2,
   "metadata": {
    "collapsed": false
   },
   "outputs": [
    {
     "data": {
      "text/plain": [
       "{'actions': ['map_each_image', 'kmeans', 'find_similar'],\n",
       " 'candidate_batch': 'c4',\n",
       " 'candidate_has_mapped': False,\n",
       " 'candidate_measures_spec': '/t4/candidates/c4/measures',\n",
       " 'candidate_spec': '/fuzzy/*0.jpg',\n",
       " 'example_data': '/imgs/',\n",
       " 'fuzzy_example_data': '/fuzzy/',\n",
       " 'in_memory_set_len': 8000000,\n",
       " 'input_spec': '/imgs/*0.jpg',\n",
       " 'kmeans_group_converge': None,\n",
       " 'kmeans_output': {'cluster_to_flattened': True,\n",
       "  'cluster_to_key': True,\n",
       "  'cluster_to_phash': True,\n",
       "  'cluster_to_ward': True,\n",
       "  'flattened_to_cluster': True,\n",
       "  'flattened_to_key': True,\n",
       "  'flattened_to_phash': True,\n",
       "  'key_to_cluster': True,\n",
       "  'key_to_phash': True,\n",
       "  'phash_to_cluster': True,\n",
       "  'phash_to_flattened': True,\n",
       "  'phash_to_key': True,\n",
       "  'ward_to_cluster': True,\n",
       "  'ward_to_key': True},\n",
       " 'kmeans_sample': 2000,\n",
       " 'maxIterations': 15,\n",
       " 'max_iter_group': 3,\n",
       " 'n_clusters': 12,\n",
       " 'n_clusters_group': 8,\n",
       " 'patch': {'max_patches': 4,\n",
       "  'random_state': 0,\n",
       "  'window_as_fraction': [0.5, 0.5]},\n",
       " 'phash_bits': 256,\n",
       " 'phash_chunk_len': 2,\n",
       " 'quantiles': [5, 15, 25, 50, 75, 85, 95],\n",
       " 'search_rounds': 1,\n",
       " 'search_sample_step': 100,\n",
       " 'test_name': 't4',\n",
       " 'ward_clusters': 5,\n",
       " 'ward_x_down': 16,\n",
       " 'x_down': 32}"
      ]
     },
     "execution_count": 2,
     "metadata": {},
     "output_type": "execute_result"
    }
   ],
   "source": [
    "import yaml\n",
    "config = yaml.load(open('config.yaml').read())\n",
    "config"
   ]
  },
  {
   "cell_type": "markdown",
   "metadata": {},
   "source": [
    "### [Example of each image's output](#map_each_image)\n",
    "<a id=\"map_each_image\"></a>\n",
    "#### These measurements are done for training and candidate images\n",
    "#### On each training or candidate image, the measurements may also be applied to patches\n",
    "#### The relevant code for this is <a href=\"https://github.com/ContinuumIO/image-analyzer/blob/master/map_each_image.py\">map_each_image.py.</a> <i> (The function \"example\" in map_each_image.py can do these measurements locally on an image file.)</i>\n",
    "* Kmeans centroids\n",
    "* Histogram\n",
    "* Perceptive hashes (abbrev.)\n",
    "* Ward cluster hashes (abbrev.) (hashing the output of the function seen in <a href=\"http://scikit-learn.org/stable/auto_examples/cluster/plot_lena_ward_segmentation.html\">this scikit demo</a>\n",
    "* Prinicipal components"
   ]
  },
  {
   "cell_type": "code",
   "execution_count": 3,
   "metadata": {
    "collapsed": false
   },
   "outputs": [
    {
     "name": "stdout",
     "output_type": "stream",
     "text": [
      "Keys: ['cen', 'pca_var', 'meta', 'phash', 'histo', 'ward', 'pca_fac', 'id']\n",
      "Centroids in 1 image flattened: [ 0.0980597   0.10067332  0.07502033  0.4832288   0.74329001  0.3068403\n",
      "  0.39556718  0.33680019  0.34318587  0.69543546  0.5883016   0.61652535\n",
      "  0.97057652  0.86680192  0.84002519  0.26330549  0.2297267   0.24091083\n",
      "  0.89458674  0.70459908  0.66731501  0.28936416  0.39460137  0.14140551\n",
      "  0.04144318  0.04623584  0.02837553  0.40374291  0.58303112  0.23085584\n",
      "  0.53872192  0.4576503   0.44566652  0.16590469  0.16399746  0.13009502]\n",
      "Histogram flattened: [ 0.02744549  0.03814275  0.05321374  0.16956136  0.45035073  0.50272733\n",
      "  0.75232422  0.0308008   0.04285328  0.05870309  0.17326318  0.51095122\n",
      "  0.69764537  0.76385945  0.01479674  0.02571036  0.03825854  0.13062458\n",
      "  0.30416244  0.36708713  0.64770496]\n",
      "Perceptive hash (abbrev.): [4590452597640986239, 5705755325505827644, 4316219442648471965, -4779138984269271173, 67322450502461386]\n",
      "Ward cluster hash (abbrev.): (-3831614152369362579, -3831614152369362579, 7497007922500697532, -9001240377361059183, -8238206338916862869)\n",
      "PCA factors and variance [-0.60659438 -0.64272549 -0.46791793  0.28722133 -0.72598572  0.6248589\n",
      " -0.74131448  0.24463989  0.62498333] [ 0.15888125  0.01093299  0.00118719]\n"
     ]
    }
   ],
   "source": [
    "example = sc.pickleFile('hdfs:///t1/map_each_image/measures').take(1)[0]\n",
    "print(\"Keys:\", example[1].keys())\n",
    "print(\"Centroids in 1 image flattened:\", example[1]['cen'])\n",
    "print(\"Histogram flattened:\", example[1]['histo'])\n",
    "print(\"Perceptive hash (abbrev.):\", example[1]['phash'][:5])\n",
    "print(\"Ward cluster hash (abbrev.):\", example[1]['ward'][:5])\n",
    "print('PCA factors and variance', example[1]['pca_fac'], example[1]['pca_var'])"
   ]
  },
  {
   "cell_type": "markdown",
   "metadata": {},
   "source": [
    "### Based on the data above for each image, a kmeans algorithm is run for all training images\n",
    "#### The kmeans algorithm also tracks the most common perceptive hashes and ward cluster hashes\n",
    "#### <a href=\"https://github.com/ContinuumIO/image-analyzer/blob/master/image_mapper.py\">image_mapper.py</a> has the iterative kmeans loop on all images\n",
    "* This shows cluster to hash lookups"
   ]
  },
  {
   "cell_type": "code",
   "execution_count": 4,
   "metadata": {
    "collapsed": false
   },
   "outputs": [
    {
     "name": "stdout",
     "output_type": "stream",
     "text": [
      "Kmeans cluster to perceptive hash\n",
      "[(0, (4590452597640986239, 5705755325505827644)),\n",
      " (0, (5705755325505827644, 4316219442648471965))]\n",
      "Kmeans cluster to Ward cluster hash\n",
      "[(0, (4590452597640986239, 5705755325505827644)),\n",
      " (0, (5705755325505827644, 4316219442648471965))]\n"
     ]
    }
   ],
   "source": [
    "print('Kmeans cluster to perceptive hash')\n",
    "pprint(sc.pickleFile(\"hdfs:///t1/km/cluster_to_phash\").take(2))\n",
    "\n",
    "print('Kmeans cluster to Ward cluster hash')\n",
    "pprint(sc.pickleFile(\"hdfs:///t1/km/cluster_to_phash\").take(2))"
   ]
  },
  {
   "cell_type": "markdown",
   "metadata": {},
   "source": [
    "### [Also we save the inverse mappings of hash to cluster](#mappings)\n",
    "<a id=\"mappings\"></a>\n",
    "#### This provides several ways to search for images by hash or kmeans cluster\n",
    "#### In <a href=\"https://github.com/ContinuumIO/image-analyzer/blob/master/config.yaml\">config.yaml</a>, see the kmeans_output dictionary that controls which lookup tables are created"
   ]
  },
  {
   "cell_type": "code",
   "execution_count": 5,
   "metadata": {
    "collapsed": false
   },
   "outputs": [
    {
     "name": "stdout",
     "output_type": "stream",
     "text": [
      "Perceptive hash to kmeans cluster\n",
      "[((4590452597640986239, 5705755325505827644), 0),\n",
      " ((5705755325505827644, 4316219442648471965), 0)]\n",
      "Ward cluster hash to kmeans cluster\n",
      "[(-3831614152369362579, 0), (-3831614152369362579, 0)]\n"
     ]
    }
   ],
   "source": [
    "print('Perceptive hash to kmeans cluster')\n",
    "pprint(sc.pickleFile(\"hdfs:///t1/km/phash_to_cluster\").take(2))\n",
    "\n",
    "print(\"Ward cluster hash to kmeans cluster\")\n",
    "pprint(sc.pickleFile(\"hdfs:///t1/km/ward_to_cluster\").take(2))"
   ]
  },
  {
   "cell_type": "markdown",
   "metadata": {},
   "source": [
    "### [Hash counts in kmeans clusters](#hash_counts)\n",
    "<a id=\"hash_counts\"></a>\n",
    "#### A dictionary for each kmeans cluster counts the most common N hashes per cluster\n",
    "* This shows the top ward cluster hashes in kmeans cluster with index 0"
   ]
  },
  {
   "cell_type": "code",
   "execution_count": 6,
   "metadata": {
    "collapsed": false
   },
   "outputs": [
    {
     "name": "stdout",
     "output_type": "stream",
     "text": [
      "{-9095433121909742913: 1,\n",
      " -9001240377361059183: 1,\n",
      " -8968627659190537093: 1,\n",
      " -8917634196879128416: 1,\n",
      " -8890094862188566716: 1,\n",
      " -8784979837131872929: 4,\n",
      " -8576536287508771508: 1,\n",
      " -8517683562249245472: 1,\n",
      " -8377574415671456776: 1,\n",
      " -8265395038234503446: 1,\n",
      " -8238206338916862869: 6,\n",
      " -7999998493000983909: 1,\n",
      " -7864692876566671025: 1,\n",
      " -7827924191438386758: 1,\n",
      " -7506783778991226981: 1,\n",
      " -7434824337793658859: 1,\n",
      " -7406090092824014315: 1,\n",
      " -6921933845541658490: 1,\n",
      " -6855436430839899081: 1,\n",
      " -6775669275395669891: 1,\n",
      " -6696910335962296665: 6,\n",
      " -6573633938772194726: 1,\n",
      " -6506769527532925706: 1,\n",
      " -6479798263929289639: 3,\n",
      " -6439366262116039212: 9,\n",
      " -6439362504181703090: 1,\n",
      " -6371097860695599930: 4,\n",
      " -6249680222990146917: 1,\n",
      " -6224159247635402022: 1,\n",
      " -6019037222050955989: 2,\n",
      " -5806487960647788011: 1,\n",
      " -5552806537570066040: 1,\n",
      " -5541287140049078438: 1,\n",
      " -5460220511711024102: 1,\n",
      " -5423295101278253790: 2,\n",
      " -5329514752285494194: 1,\n",
      " -5207357987965578153: 1,\n",
      " -5194032257652069645: 1,\n",
      " -5130029528390688653: 7,\n",
      " -5038384824175620905: 6,\n",
      " -5013803343762532022: 3,\n",
      " -4945062965630975777: 1,\n",
      " -4669024366043471636: 1,\n",
      " -4667818903651918780: 1,\n",
      " -4665151005331993071: 1,\n",
      " -4635710949948108303: 1,\n",
      " -4417752804023855722: 1,\n",
      " -4354696971187735758: 1,\n",
      " -4291275033404059755: 1,\n",
      " -4181190870548101704: 1,\n",
      " -4116756417394025686: 1,\n",
      " -4107798007082953397: 1,\n",
      " -4052861524351968916: 1,\n",
      " -4035475343318357777: 2,\n",
      " -3980241699562633116: 1,\n",
      " -3961614034392472639: 1,\n",
      " -3946093268790647313: 1,\n",
      " -3832062012132377709: 1,\n",
      " -3546445074759272197: 1,\n",
      " -3333655756462107200: 1,\n",
      " -3241995746438749243: 1,\n",
      " -2959867874517771381: 1,\n",
      " -2831397658922811615: 1,\n",
      " -2699164510210933549: 2,\n",
      " -2674712212897613267: 1,\n",
      " -2641400996071963099: 1,\n",
      " -2115443718477647539: 1,\n",
      " -2098177597065484460: 1,\n",
      " -1967460664227047773: 2,\n",
      " -1842252707656104988: 2,\n",
      " -1819817855892790435: 1,\n",
      " -1387972612275945144: 1,\n",
      " -1156068079870398016: 1,\n",
      " -1000596658550306945: 1,\n",
      " -993185207907190850: 1,\n",
      " -913044934656171724: 1,\n",
      " -822478295673647710: 1,\n",
      " -754183478668228216: 1,\n",
      " -708013587096962418: 1,\n",
      " -679059020480043829: 1,\n",
      " -503530645212927693: 1,\n",
      " -202056997460738029: 1,\n",
      " 158871719782539209: 1,\n",
      " 279610300999106872: 2,\n",
      " 502896730504143507: 1,\n",
      " 579203582860213046: 1,\n",
      " 603344538557028365: 1,\n",
      " 636485128213305500: 1,\n",
      " 824735603267987874: 2,\n",
      " 937385920768048285: 1,\n",
      " 1144850855779553720: 1,\n",
      " 1215197639767590053: 1,\n",
      " 1267305975155491464: 3,\n",
      " 1267308497549489110: 2,\n",
      " 1287356546329288376: 1,\n",
      " 1304539426038721001: 2,\n",
      " 1352713962895552248: 4,\n",
      " 1383059891005456189: 1,\n",
      " 1521027840286423925: 1,\n",
      " 1692101193170937081: 1,\n",
      " 1892601811283854027: 1,\n",
      " 2001336904123429841: 2,\n",
      " 2277036328179895821: 1,\n",
      " 2447035575231678152: 1,\n",
      " 2470317628725495884: 2,\n",
      " 2695353490322839954: 2,\n",
      " 2737123213742907332: 1,\n",
      " 2810012508846950117: 2,\n",
      " 2832055037468247724: 1,\n",
      " 3031575136247091488: 4,\n",
      " 3067895872890382358: 1,\n",
      " 3089103728550035081: 1,\n",
      " 3094840018038669519: 1,\n",
      " 3191065938158005373: 1,\n",
      " 3203440807360164552: 2,\n",
      " 3212415177374876359: 1,\n",
      " 3452789942565406502: 1,\n",
      " 3466675275644008814: 1,\n",
      " 3713080549411575706: 1,\n",
      " 3753618317225610676: 1,\n",
      " 3775895670653402268: 1,\n",
      " 3858532739507818311: 1,\n",
      " 3907098736042245006: 1,\n",
      " 4153290144888537001: 1,\n",
      " 4390753332276699091: 1,\n",
      " 4462547341546751504: 1,\n",
      " 4797748490654898946: 2,\n",
      " 4968502226517082070: 1,\n",
      " 5125313216454870316: 1,\n",
      " 5235023410939091882: 1,\n",
      " 5239582709862753648: 1,\n",
      " 5305688231068763060: 1,\n",
      " 5453943613525323554: 1,\n",
      " 5475290832581346785: 1,\n",
      " 5506933835355241852: 1,\n",
      " 5692573854726051135: 1,\n",
      " 5867773809943090744: 1,\n",
      " 6119710546233304808: 1,\n",
      " 6260030330841605311: 1,\n",
      " 6351308292338762724: 1,\n",
      " 6354796698672625035: 1,\n",
      " 6676501721328408118: 3,\n",
      " 6831950343225505632: 1,\n",
      " 6842689372182852907: 1,\n",
      " 6873481098802000918: 1,\n",
      " 6920456217036084587: 1,\n",
      " 6973410664635351569: 1,\n",
      " 7027650056755583377: 1,\n",
      " 7144635283821309956: 1,\n",
      " 7217857531202142820: 1,\n",
      " 7306362158214069439: 5,\n",
      " 7321770147588082561: 1,\n",
      " 7369278802953833254: 1,\n",
      " 7497007922500697532: 2,\n",
      " 7519334803577880636: 1,\n",
      " 7858146025090471156: 1,\n",
      " 7859962554886374292: 1,\n",
      " 8099569724793987789: 1,\n",
      " 8118683264794037994: 1,\n",
      " 8232760088878239896: 1,\n",
      " 8272781765615505634: 1,\n",
      " 8526517616553538725: 1,\n",
      " 8722141548382753543: 1,\n",
      " 8760587863356685823: 1,\n",
      " 8788677719408117005: 1,\n",
      " 8792051771637971719: 2,\n",
      " 8825512768966173494: 1,\n",
      " 8825553982541933933: 2,\n",
      " 8871311509876279992: 6,\n",
      " 9213189519864855580: 2}\n"
     ]
    }
   ],
   "source": [
    "clust0_ward = sc.pickleFile('hdfs:////t1/km/ward_unions').take(1)[0]\n",
    "pprint({k:v for k,v in clust0_ward.items()})"
   ]
  },
  {
   "cell_type": "markdown",
   "metadata": {},
   "source": [
    "### Using joins to finally get a matching image name\n",
    "#### These examples are ward hash to image key and perceptive hash to image key mappings"
   ]
  },
  {
   "cell_type": "code",
   "execution_count": 7,
   "metadata": {
    "collapsed": false
   },
   "outputs": [
    {
     "name": "stdout",
     "output_type": "stream",
     "text": [
      "ward_to_key\n",
      "\n",
      "[(-3831614152369362579,\n",
      "  u'hdfs://ip-10-111-177-131:9000/imgs/femaleasammaasamma.2.jpg'),\n",
      " (-3831614152369362579,\n",
      "  u'hdfs://ip-10-111-177-131:9000/imgs/femaleasammaasamma.2.jpg')]\n",
      "\n",
      "\n",
      "phash_to_key\n",
      "\n",
      "[((4590452597640986239, 5705755325505827644),\n",
      "  u'hdfs://ip-10-111-177-131:9000/imgs/femaleasammaasamma.2.jpg'),\n",
      " ((5705755325505827644, 4316219442648471965),\n",
      "  u'hdfs://ip-10-111-177-131:9000/imgs/femaleasammaasamma.2.jpg')]\n"
     ]
    }
   ],
   "source": [
    "print('ward_to_key\\n')\n",
    "pprint(sc.pickleFile('hdfs:///t1/km/ward_to_key').take(2))\n",
    "print('\\n\\nphash_to_key\\n')\n",
    "pprint(sc.pickleFile('hdfs:///t1/km/phash_to_key').take(2))"
   ]
  },
  {
   "cell_type": "markdown",
   "metadata": {},
   "source": [
    "### [Joins lead to a number of potentially matching images](#vote_count)\n",
    "<a id=\"vote_count\"></a>\n",
    "* The example below shows the number of ward hash chunks matching a candidate\n",
    "* The candidate has a path name /fuzzy/\n",
    "* The others are the originals in /imgs/"
   ]
  },
  {
   "cell_type": "code",
   "execution_count": null,
   "metadata": {
    "collapsed": false
   },
   "outputs": [],
   "source": [
    "parts = (config['test_name'], config['candidate_batch'])\n",
    "ward_matches = sc.pickleFile('hdfs:///%s/candidates/%s/ward_to_key_counts' % parts)\n",
    "phash_matches = sc.pickleFile('hdfs:///%s/candidates/%s/phash_to_key_counts' % parts)\n"
   ]
  },
  {
   "cell_type": "code",
   "execution_count": null,
   "metadata": {
    "collapsed": false
   },
   "outputs": [],
   "source": [
    "joined = ward_matches.fullOuterJoin(phash_matches)\n",
    "\n",
    "def best_votes(x):\n",
    "    \n",
    "    if x[1][0] is None:\n",
    "        d1 = {}\n",
    "    else:\n",
    "        d1 = x[1][0][1]\n",
    "    if x[1][1] is None:\n",
    "        d2 = {}\n",
    "    else:\n",
    "        d2 = x[1][1][1]\n",
    "    for k in d1:\n",
    "        if k not in d2:\n",
    "            d2[k] = d1[k]\n",
    "        else:\n",
    "            d2[k] += d1[k]\n",
    "    d3 = sorted(d2.items(), key=lambda x:x[1])[-1]\n",
    "    return x[0],(d3,d2)\n",
    "phash_and_ward = joined.map(best_votes).collect()\n",
    "print(\"Example votes dictionary:\")\n",
    "pprint(phash_and_ward[0])"
   ]
  },
  {
   "cell_type": "markdown",
   "metadata": {},
   "source": [
    "#### [ Loading and comparing historical and matched images ](#matches)\n",
    "<a id=\"matches\"></a>"
   ]
  },
  {
   "cell_type": "code",
   "execution_count": null,
   "metadata": {
    "collapsed": false,
    "scrolled": false
   },
   "outputs": [],
   "source": [
    "def load_image(image):\n",
    "    \"\"\"Load one image, where image = (key, blob)\"\"\"\n",
    "    from StringIO import StringIO\n",
    "    from PIL import Image\n",
    "    img_quads = []\n",
    "    img = Image.open(StringIO(image[1]))\n",
    "    return  image[0], np.asarray(img, dtype=np.uint8)\n",
    "\n",
    "for p in phash_and_ward:\n",
    "    cname, candidate = load_image(sc.binaryFiles(p[0]).collect()[0])\n",
    "    mname, matched = load_image(sc.binaryFiles(p[1][0][0]).collect()[0])\n",
    "    print(\"Candidate (fuzzy) \" , cname)\n",
    "    plt.subplot(1,2,1)\n",
    "    plt.imshow(candidate)\n",
    "    print(\"Matched (original) \"  ,mname)        \n",
    "    plt.subplot(1,2,2)\n",
    "    plt.imshow(matched)\n",
    "    plt.show()\n"
   ]
  },
  {
   "cell_type": "code",
   "execution_count": null,
   "metadata": {
    "collapsed": false
   },
   "outputs": [],
   "source": []
  },
  {
   "cell_type": "code",
   "execution_count": null,
   "metadata": {
    "collapsed": true
   },
   "outputs": [],
   "source": []
  }
 ],
 "metadata": {
  "celltoolbar": "Slideshow",
  "kernelspec": {
   "display_name": "Python 2",
   "language": "python",
   "name": "python2"
  },
  "language_info": {
   "codemirror_mode": {
    "name": "ipython",
    "version": 2
   },
   "file_extension": ".py",
   "mimetype": "text/x-python",
   "name": "python",
   "nbconvert_exporter": "python",
   "pygments_lexer": "ipython2",
   "version": "2.7.10"
  }
 },
 "nbformat": 4,
 "nbformat_minor": 0
}
