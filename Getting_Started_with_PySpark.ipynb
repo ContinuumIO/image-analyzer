{
 "cells": [
  {
   "cell_type": "markdown",
   "metadata": {},
   "source": [
    "# Getting started with PySpark\n",
    "#### Create spark context and other python imports"
   ]
  },
  {
   "cell_type": "code",
   "execution_count": 1,
   "metadata": {
    "collapsed": true
   },
   "outputs": [],
   "source": [
    "%matplotlib inline\n",
    "from __future__ import print_function, division\n",
    "from pyspark import SparkConf\n",
    "from pyspark import SparkContext \n",
    "from StringIO import StringIO\n",
    "import matplotlib.pyplot as plt\n",
    "import numpy as np\n",
    "from pprint import pprint\n",
    "\n",
    "conf = SparkConf()\n",
    "conf.set('spark.executor.instances', 2)\n",
    "sc = SparkContext()"
   ]
  },
  {
   "cell_type": "markdown",
   "metadata": {},
   "source": [
    "## A few preliminaries\n",
    "\n",
    "#### <code>lambda</code> expressions\n",
    "It is helpful to know lambda expressions and about unpacking arguments arguments for them.\n",
    "\n",
    "<code>lambda</code> is a statement for an expression that can have a closure.  It's like a function or other callable, but in one line without a return statement.\n",
    "\n",
    "<code>lambda</code> is useful in pyspark because there is a need for a lot of simple callables.\n",
    "\n",
    "<code>c=lambda (key,(x,y)): (key, x * y)</code> \n",
    "\n",
    "makes c a callable, that can be used like this:\n",
    "\n",
    "<code>c(('key1', (3, 4)))</code> \n",
    "\n",
    "to return \n",
    "<code>('key1', 12)</code> \n",
    "\n",
    "#### mapping / reducing\n",
    "In pyspark and other parallel computing frameworks, there is a concept of 'mapping'.\n",
    "\n",
    "E.g. mapping across a list of tuples and summing the second element of each tuple\n",
    "```python\n",
    "x = [(1, 2), (2, 3)]\n",
    "\n",
    "sum(map(lambda x:x[1], x)) # answer is 5 in python\n",
    "# or\n",
    "sc.parallelize(x).map(lambda x:x[1]).sum() # answer is 5 in pyspark\n",
    "```\n",
    "In mapping and reducing with pyspark it can be helpful to unpack the arguments to a lambda used in a mapper.\n",
    "\n",
    "```python\n",
    "sc.parallelize(x).map(lambda (key, value): value).sum() # 5\n",
    "```\n",
    "(x was mapped as a Resilient Distributed Dataset, the key-values were split and the values were summed."
   ]
  },
  {
   "cell_type": "markdown",
   "metadata": {},
   "source": [
    "## Common pyspark usage patterns"
   ]
  },
  {
   "cell_type": "markdown",
   "metadata": {},
   "source": [
    "#### <code>sc.parallelize</code>: create an RDD from a python iterable\n",
    "\n",
    "<code>sc.parallelize</code> can be called on a list, tuple, generator, or other iterator.  Generators are useful because the full set of elements of the RDD never has to be held in memory in the python main process."
   ]
  },
  {
   "cell_type": "code",
   "execution_count": 87,
   "metadata": {
    "collapsed": true
   },
   "outputs": [],
   "source": [
    "import random\n",
    "def generate_rands(length=100):\n",
    "    for idx in range(length):\n",
    "        yield (random.uniform(0,1), random.uniform(0,1))\n",
    "rand_rdd = sc.parallelize(generate_rands())"
   ]
  },
  {
   "cell_type": "markdown",
   "metadata": {},
   "source": [
    "#### We have just created rand_rdd in parallel java processes for use with pyspark map reduce\n",
    "If we want to get the RDD back to python, we can call <code>.collect()</code>"
   ]
  },
  {
   "cell_type": "code",
   "execution_count": 88,
   "metadata": {
    "collapsed": false
   },
   "outputs": [
    {
     "data": {
      "text/plain": [
       "[(0.27271073923856215, 0.48462588409257845),\n",
       " (0.5041987597307358, 0.21326114698680643),\n",
       " (0.06855797326697666, 0.36280469242372837),\n",
       " (0.46180191158580064, 0.5290749203785821),\n",
       " (0.5235684169384603, 0.6409866667779996),\n",
       " (0.9965491658529141, 0.7738958760578801),\n",
       " (0.8974899207455208, 0.09277112370578644),\n",
       " (0.9368523305482879, 0.1568792861957129),\n",
       " (0.7556326493761509, 0.7974255788839968),\n",
       " (0.641960168786479, 0.06633839325333935)]"
      ]
     },
     "execution_count": 88,
     "metadata": {},
     "output_type": "execute_result"
    }
   ],
   "source": [
    "as_list_again = rand_rdd.collect()\n",
    "as_list_again[:10]"
   ]
  },
  {
   "cell_type": "markdown",
   "metadata": {},
   "source": [
    "#### But a better way to do it is to <code>take</code> a few elements rather than the full RDD\n",
    "This avoids pulling the entire RDD into the main python process, which breaks parallelism."
   ]
  },
  {
   "cell_type": "code",
   "execution_count": 89,
   "metadata": {
    "collapsed": false
   },
   "outputs": [
    {
     "data": {
      "text/plain": [
       "[(0.27271073923856215, 0.48462588409257845),\n",
       " (0.5041987597307358, 0.21326114698680643),\n",
       " (0.06855797326697666, 0.36280469242372837),\n",
       " (0.46180191158580064, 0.5290749203785821),\n",
       " (0.5235684169384603, 0.6409866667779996)]"
      ]
     },
     "execution_count": 89,
     "metadata": {},
     "output_type": "execute_result"
    }
   ],
   "source": [
    "rand_rdd.take(5)"
   ]
  },
  {
   "cell_type": "markdown",
   "metadata": {},
   "source": [
    "#### <code>sc.binaryFiles</code>: read binary HDFS files into an RDD, matching a wildcard pattern"
   ]
  },
  {
   "cell_type": "code",
   "execution_count": 112,
   "metadata": {
    "collapsed": false
   },
   "outputs": [
    {
     "name": "stdout",
     "output_type": "stream",
     "text": [
      "(u'hdfs://ip-10-95-184-251:9000/imgs/malestaffanonym1anonym1.11.jpg',\n",
      " '\\xff\\xd8\\xff\\xe0\\x00\\x10JFIF\\x00\\x01\\x01\\x00\\x00\\x01\\x00\\x01\\x00\\x00\\xff\\xdb\\x00C\\x00\\x08\\x06\\x06\\x07\\x06\\x05\\x08\\x07\\x07\\x07\\t\\t\\x08\\n\\x0c\\x14\\r\\x0c\\x0b\\x0b\\x0c\\x19\\x12\\x13\\x0f\\x14\\x1d\\x1a\\x1f\\x1e\\x1d\\x1a\\x1c\\x1c $.\\' \",#\\x1c\\x1c(7),01444\\x1f\\'9=82<.342\\xff\\xdb\\x00C\\x01\\t\\t\\t\\x0c\\x0b\\x0c')\n"
     ]
    }
   ],
   "source": [
    "img_files = sc.binaryFiles('/imgs/malestaff*')  # wildcard hadoop distributed file system name\n",
    "key, img = img_files.take(1)[0] # Don't call .collect() on this one!\n",
    "pprint((key, img[:100])) # abbreviated the image blob to 100 characters"
   ]
  },
  {
   "cell_type": "markdown",
   "metadata": {},
   "source": [
    "#### <code>sc.pickleFile</code>: read results typically from pyspark that were output with <code>saveAsPickleFile</code>\n",
    "\n",
    "In pyspark, an RDD may be persisted to the hadoop distributed file system (HDFS) with\n",
    "\n",
    "<code>x.saveAsPickleFile(some_path)</code> where <code>x</code> is the RDD."
   ]
  },
  {
   "cell_type": "code",
   "execution_count": 10,
   "metadata": {
    "collapsed": false
   },
   "outputs": [
    {
     "data": {
      "text/plain": [
       "[(u'hdfs://ip-10-95-184-251:9000/imgs/femaleekavazekavaz.8.jpg',\n",
       "  {'cen': array([ 0.56101131,  0.48763534,  0.62458098,  0.15109672,  0.14877951,\n",
       "           0.11333738,  0.32142827,  0.39909598,  0.16497262,  0.91180402,\n",
       "           0.76153463,  0.8768959 ,  0.38311961,  0.33375591,  0.34756392,\n",
       "           0.67436421,  0.59022844,  0.8177439 ,  0.38147092,  0.59025067,\n",
       "           0.2465435 ,  0.4640739 ,  0.41011605,  0.504408  ,  0.75175792,\n",
       "           0.2966879 ,  0.27923897,  0.2744056 ,  0.22422786,  0.22581731,\n",
       "           0.06852739,  0.07509741,  0.04723817,  0.78680694,  0.6175344 ,\n",
       "           0.65876627], dtype=float32),\n",
       "   'histo': array([ 0.06236181,  0.12990619,  0.2634635 ,  0.37532961,  0.45033172,\n",
       "           0.58264619,  0.82682979,  0.07046568,  0.12239435,  0.2413772 ,\n",
       "           0.43876353,  0.59076869,  0.61009002,  0.66155255,  0.03581263,\n",
       "           0.09366337,  0.15713109,  0.24893087,  0.43752325,  0.60076404,\n",
       "           0.81510395], dtype=float32),\n",
       "   'id': u'hdfs://ip-10-95-184-251:9000/imgs/femaleekavazekavaz.8.jpg',\n",
       "   'meta': {'app_APP0': 'JFIF\\x00\\x01\\x01\\x00\\x00\\x01\\x00\\x01\\x00\\x00',\n",
       "    'format': 'JPEG',\n",
       "    'format_description': 'JPEG (ISO 10918)',\n",
       "    'info_jfif': 257,\n",
       "    'info_jfif_density': (1, 1),\n",
       "    'info_jfif_unit': 0,\n",
       "    'info_jfif_version': (1, 1),\n",
       "    'is_full': True},\n",
       "   'pca_fac': array([-0.59237937, -0.49935618, -0.63224211,  0.05111137, -0.80646355,\n",
       "           0.5890706 ,  0.80403627, -0.31663851, -0.50325514]),\n",
       "   'pca_var': array([ 0.11887162,  0.01840225,  0.00371218]),\n",
       "   'phash': [8202485532239211291,\n",
       "    9183141493459191930,\n",
       "    8971126232167700343,\n",
       "    4868584311476196809,\n",
       "    4390879473163550601,\n",
       "    3700592036958093193,\n",
       "    8843549762569508441],\n",
       "   'ward': (3031575136247091488,\n",
       "    -3831614152369362579,\n",
       "    7122612135561114692,\n",
       "    -5013803343762532022,\n",
       "    7497007922500697532,\n",
       "    7497007922500697532,\n",
       "    -8545819396726018973,\n",
       "    -8764108568237547700)})]"
      ]
     },
     "execution_count": 10,
     "metadata": {},
     "output_type": "execute_result"
    }
   ],
   "source": [
    "image_measurements = sc.pickleFile('hdfs:///t1/map_each_image/measures')\n",
    "image_measurements.take(1)  # Don't call .collect() on this one!"
   ]
  },
  {
   "cell_type": "markdown",
   "metadata": {
    "collapsed": true
   },
   "source": [
    "#### <code>.map</code> applys a function to each element of the RDD\n",
    "This functions maps x and y random numbers and calculates their squares and product"
   ]
  },
  {
   "cell_type": "code",
   "execution_count": 12,
   "metadata": {
    "collapsed": false
   },
   "outputs": [
    {
     "data": {
      "text/plain": [
       "[(0.03128190306428986, 0.9396735739612871, 0.17144905264460283),\n",
       " (0.010824814686933127, 0.2787668909810963, 0.05493268549527555),\n",
       " (0.4935927460486683, 0.000175413773665647, 0.009304996842470516),\n",
       " (0.09170121975354902, 0.05875481311041671, 0.07340223449335194),\n",
       " (0.08568203237814921, 0.1887070298807217, 0.12715660362019884)]"
      ]
     },
     "execution_count": 12,
     "metadata": {},
     "output_type": "execute_result"
    }
   ],
   "source": [
    "products = rand_rdd.map(lambda (x, y): (x**2, y**2, x*y))\n",
    "products.take(5)"
   ]
  },
  {
   "cell_type": "markdown",
   "metadata": {
    "collapsed": true
   },
   "source": [
    "#### <code>.reduce</code> applys an aggregation to an RDD\n",
    "<code>.reduce</code> takes a callable which is called with two elements of the RDD (repeatedly).  The function must be idempotent, that is it must give the same answer if called more than once on the same inputs.  Summing is an example of an idempotent operation.\n",
    "\n",
    "Here we calculate the correlation coefficient between the two columns by summing <code class=\"python\">x\\*\\*2</code>, <code class=\"python\">y\\*\\*2</code> and <code>x * y</code>"
   ]
  },
  {
   "cell_type": "code",
   "execution_count": 153,
   "metadata": {
    "collapsed": false
   },
   "outputs": [
    {
     "data": {
      "text/plain": [
       "0.021891706457889955"
      ]
     },
     "execution_count": 153,
     "metadata": {},
     "output_type": "execute_result"
    }
   ],
   "source": [
    "x_variance, y_variance, covar = products.reduce(lambda a, b: [ai + bi for ai, bi in zip(a,b)]) \n",
    "# in the above line a and b are both tuples 3 long (x square, y square, x * y)\n",
    "correlation = covar / (y_variance * x_variance)\n",
    "correlation"
   ]
  },
  {
   "cell_type": "markdown",
   "metadata": {},
   "source": [
    "#### <code>.flatMap</code> works like <code>.map</code> but <code>.flatMap</code> returns a list\n",
    "\n",
    "It is useful for making more elements out of an element of an RDD, like this word count example."
   ]
  },
  {
   "cell_type": "code",
   "execution_count": 155,
   "metadata": {
    "collapsed": false
   },
   "outputs": [
    {
     "name": "stdout",
     "output_type": "stream",
     "text": [
      "words RDD\n",
      "[('useful', 1),\n",
      " ('for', 1),\n",
      " ('RDDs', 1),\n",
      " ('RDDs', 1),\n",
      " ('are', 1),\n",
      " ('useful', 1),\n",
      " ('flatMap', 1),\n",
      " ('is', 1),\n",
      " ('useful', 1),\n",
      " ('map/reduce', 1),\n",
      " ('is', 1),\n",
      " ('also', 1),\n",
      " ('useful', 1)]\n",
      "Word counts\n"
     ]
    },
    {
     "data": {
      "text/plain": [
       "[('useful', 4),\n",
       " ('RDDs', 2),\n",
       " ('is', 2),\n",
       " ('map/reduce', 1),\n",
       " ('are', 1),\n",
       " ('also', 1),\n",
       " ('flatMap', 1),\n",
       " ('for', 1)]"
      ]
     },
     "execution_count": 155,
     "metadata": {},
     "output_type": "execute_result"
    }
   ],
   "source": [
    "documents = sc.parallelize(['useful for RDDs', \n",
    "                            'RDDs are useful', \n",
    "                            'flatMap is useful', \n",
    "                            'map/reduce is also useful'])\n",
    "words = documents.flatMap(\n",
    "    lambda x: [(word, 1) for word in x.split()]  #(from documents rdd to words rdd with 1 for counting)\n",
    ")\n",
    "print('words RDD')\n",
    "pprint(words.collect())\n",
    "print('Word counts')\n",
    "words.reduceByKey(\n",
    "    lambda a, b: a + b  # the word is not passed in, only the count which may be 1 or more when called\n",
    ").sortBy(\n",
    "    lambda (word, count): -count   # sort by negative count for descending\n",
    ").collect()"
   ]
  },
  {
   "cell_type": "markdown",
   "metadata": {},
   "source": [
    "#### Inspecting an RDD, to see what it looks like, we have to call <code>take</code> to see elements of the RDD and we can do type inspection to figure out what is going on."
   ]
  },
  {
   "cell_type": "code",
   "execution_count": 144,
   "metadata": {
    "collapsed": false
   },
   "outputs": [
    {
     "name": "stdout",
     "output_type": "stream",
     "text": [
      "example is of type <type 'str'>\n"
     ]
    }
   ],
   "source": [
    "example = documents.take(1)[0] # take gives a list and we want 1st element\n",
    "print('example is of type', type(example))"
   ]
  },
  {
   "cell_type": "markdown",
   "metadata": {},
   "source": [
    "#### <code>.count()</code> gives the number of elements in an RDD"
   ]
  },
  {
   "cell_type": "code",
   "execution_count": 125,
   "metadata": {
    "collapsed": false
   },
   "outputs": [
    {
     "data": {
      "text/plain": [
       "3"
      ]
     },
     "execution_count": 125,
     "metadata": {},
     "output_type": "execute_result"
    }
   ],
   "source": [
    "documents.count()"
   ]
  },
  {
   "cell_type": "markdown",
   "metadata": {},
   "source": [
    "## Going through some map reduce ideas with the image files"
   ]
  },
  {
   "cell_type": "markdown",
   "metadata": {},
   "source": [
    "#### Mapping the <code>load_image</code> function to filenames will load each filename's image into an RDD\n",
    "The RDD consists of <code>(filename, image_numpy_3d_array)</code> tuples"
   ]
  },
  {
   "cell_type": "code",
   "execution_count": 118,
   "metadata": {
    "collapsed": false
   },
   "outputs": [
    {
     "name": "stdout",
     "output_type": "stream",
     "text": [
      "hdfs://ip-10-95-184-251:9000/imgs/malestaffanonym1anonym1.11.jpg has a shape of  (200, 180, 3)\n"
     ]
    }
   ],
   "source": [
    "def load_image(image):\n",
    "    \"\"\"Load one image, where image = (key, blob)\"\"\"\n",
    "    from StringIO import StringIO\n",
    "    from PIL import Image\n",
    "    img = Image.open(StringIO(image[1]))\n",
    "    return  image[0], np.asarray(img, dtype=np.uint8)\n",
    "\n",
    "img_files = sc.binaryFiles('/imgs/malestaff*')  # wildcard hadoop distributed file system name\n",
    "img_mapped = img_files.map(load_image, img_files)\n",
    "key, img_3d = img_mapped.take(1)[0] # Don't call .collect() on this one\n",
    "print(key, \"has a shape of \", img_3d.shape)"
   ]
  },
  {
   "cell_type": "markdown",
   "metadata": {},
   "source": [
    "#### At this point <code>img_mapped</code> is a iterable of tuples (filename, image).  We can in turn map and reduce this RDD to create other RDDs.  Here we are calculating the percentiles in each color band for each image and printing out the first 5 images' percentils as a sample."
   ]
  },
  {
   "cell_type": "code",
   "execution_count": 156,
   "metadata": {
    "collapsed": false
   },
   "outputs": [
    {
     "name": "stdout",
     "output_type": "stream",
     "text": [
      "Percentiles for red\n",
      "[array([  11.,   51.,   97.,  122.,  255.]),\n",
      " array([  12.,   51.,   98.,  122.,  255.]),\n",
      " array([  11.,   49.,   97.,  122.,  255.]),\n",
      " array([  11.,   44.,   63.,   75.,  250.]),\n",
      " array([  11.,   44.,   63.,   74.,  250.])]\n",
      "Percentiles for green\n",
      "[array([  13.,   47.,  127.,  152.,  208.]),\n",
      " array([  13.,   47.,  127.,  152.,  208.]),\n",
      " array([  13.,   45.,  127.,  152.,  208.]),\n",
      " array([  12.,   52.,   85.,   97.,  171.]),\n",
      " array([  12.,   53.,   88.,   97.,  169.])]\n",
      "Percentiles for blue\n",
      "[array([  12.,   36.,   57.,   93.,  195.]),\n",
      " array([  12.,   37.,   59.,   94.,  197.]),\n",
      " array([  12.,   36.,   56.,   91.,  196.]),\n",
      " array([  10.,   28.,   39.,   58.,  151.]),\n",
      " array([  10.,   29.,   39.,   57.,  151.])]\n"
     ]
    }
   ],
   "source": [
    "labels_bands = zip(('red','green','blue'), range(3))\n",
    "for label, band in labels_bands:\n",
    "    percentiles = img_mapped.map(\n",
    "                        lambda (fname, img): np.percentile(img[:,:,band], (5, 25, 50, 75, 95))\n",
    "                    )\n",
    "    print('Percentiles for', label)\n",
    "    pprint(percentiles.take(5))\n"
   ]
  },
  {
   "cell_type": "markdown",
   "metadata": {},
   "source": [
    "#### With spark, we can also reduce an RDD.  This will take an average of the red percentiles by summing and dividing by the count."
   ]
  },
  {
   "cell_type": "code",
   "execution_count": 157,
   "metadata": {
    "collapsed": false
   },
   "outputs": [
    {
     "name": "stdout",
     "output_type": "stream",
     "text": [
      "[  16.46969697   37.20454545   54.87878788   82.80492424  156.34924242]\n"
     ]
    }
   ],
   "source": [
    "avgs = percentiles.reduce(\n",
    "    lambda a, b: a + b  # adding numpy percentiles arrays a and b from 2 images\n",
    ") / percentiles.count() # diving by the number of images\n",
    "print(avgs)"
   ]
  },
  {
   "cell_type": "markdown",
   "metadata": {},
   "source": [
    "####Example of groupby operations, with grouping by mean color bins\n",
    "Below <code>int(np.mean(img[:,:, band]) // 5) * 5</code> creates an integer key that is the pixel 0 to 255 value floored to the nearest 5.  The first map emits this key with the filename.  "
   ]
  },
  {
   "cell_type": "code",
   "execution_count": 158,
   "metadata": {
    "collapsed": false
   },
   "outputs": [
    {
     "name": "stdout",
     "output_type": "stream",
     "text": [
      "Grouping by red\n",
      "[(45,\n",
      "  [u'hdfs://ip-10-95-184-251:9000/imgs/malestaffmartinmartin.1.jpg',\n",
      "   u'hdfs://ip-10-95-184-251:9000/imgs/malestaffmartinmartin.13.jpg',\n",
      "   u'hdfs://ip-10-95-184-251:9000/imgs/malestaffmartinmartin.14.jpg',\n",
      "   u'hdfs://ip-10-95-184-251:9000/imgs/malestaffmartinmartin.15.jpg',\n",
      "   u'hdfs://ip-10-95-184-251:9000/imgs/malestaffmartinmartin.19.jpg',\n",
      "   u'hdfs://ip-10-95-184-251:9000/imgs/malestaffmartinmartin.20.jpg',\n",
      "   u'hdfs://ip-10-95-184-251:9000/imgs/malestaffmartinmartin.3.jpg',\n",
      "   u'hdfs://ip-10-95-184-251:9000/imgs/malestaffmartinmartin.5.jpg',\n",
      "   u'hdfs://ip-10-95-184-251:9000/imgs/malestaffmartinmartin.6.jpg',\n",
      "   u'hdfs://ip-10-95-184-251:9000/imgs/malestaffmartinmartin.7.jpg']),\n",
      " (50, [u'hdfs://ip-10-95-184-251:9000/imgs/malestaffdorajdoraj.4.jpg']),\n",
      " (55,\n",
      "  [u'hdfs://ip-10-95-184-251:9000/imgs/malestaffdorajdoraj.17.jpg',\n",
      "   u'hdfs://ip-10-95-184-251:9000/imgs/malestaffdorajdoraj.6.jpg',\n",
      "   u'hdfs://ip-10-95-184-251:9000/imgs/malestaffdorajdoraj.9.jpg']),\n",
      " (60,\n",
      "  [u'hdfs://ip-10-95-184-251:9000/imgs/malestaffieorfieorf.13.jpg',\n",
      "   u'hdfs://ip-10-95-184-251:9000/imgs/malestaffieorfieorf.20.jpg',\n",
      "   u'hdfs://ip-10-95-184-251:9000/imgs/malestaffieorfieorf.3.jpg',\n",
      "   u'hdfs://ip-10-95-184-251:9000/imgs/malestaffieorfieorf.4.jpg',\n",
      "   u'hdfs://ip-10-95-184-251:9000/imgs/malestaffieorfieorf.8.jpg',\n",
      "   u'hdfs://ip-10-95-184-251:9000/imgs/malestaffieorfieorf.9.jpg',\n",
      "   u'hdfs://ip-10-95-184-251:9000/imgs/malestaffrobinrobin.10.jpg',\n",
      "   u'hdfs://ip-10-95-184-251:9000/imgs/malestaffrobinrobin.14.jpg',\n",
      "   u'hdfs://ip-10-95-184-251:9000/imgs/malestaffrobinrobin.18.jpg',\n",
      "   u'hdfs://ip-10-95-184-251:9000/imgs/malestaffrobinrobin.19.jpg',\n",
      "   u'hdfs://ip-10-95-184-251:9000/imgs/malestaffrobinrobin.2.jpg',\n",
      "   u'hdfs://ip-10-95-184-251:9000/imgs/malestaffrobinrobin.3.jpg',\n",
      "   u'hdfs://ip-10-95-184-251:9000/imgs/malestaffrobinrobin.5.jpg']),\n",
      " (65,\n",
      "  [u'hdfs://ip-10-95-184-251:9000/imgs/malestaffcwangcwang.1.jpg',\n",
      "   u'hdfs://ip-10-95-184-251:9000/imgs/malestaffcwangcwang.10.jpg',\n",
      "   u'hdfs://ip-10-95-184-251:9000/imgs/malestaffcwangcwang.11.jpg',\n",
      "   u'hdfs://ip-10-95-184-251:9000/imgs/malestaffcwangcwang.12.jpg',\n",
      "   u'hdfs://ip-10-95-184-251:9000/imgs/malestaffcwangcwang.14.jpg',\n",
      "   u'hdfs://ip-10-95-184-251:9000/imgs/malestaffcwangcwang.18.jpg',\n",
      "   u'hdfs://ip-10-95-184-251:9000/imgs/malestaffcwangcwang.3.jpg',\n",
      "   u'hdfs://ip-10-95-184-251:9000/imgs/malestaffvoudcxvoudcx.7.jpg',\n",
      "   u'hdfs://ip-10-95-184-251:9000/imgs/malestaffvoudcxvoudcx.9.jpg']),\n",
      " (70,\n",
      "  [u'hdfs://ip-10-95-184-251:9000/imgs/malestaffcwangcwang.17.jpg',\n",
      "   u'hdfs://ip-10-95-184-251:9000/imgs/malestaffcwangcwang.20.jpg',\n",
      "   u'hdfs://ip-10-95-184-251:9000/imgs/malestaffvoudcxvoudcx.11.jpg',\n",
      "   u'hdfs://ip-10-95-184-251:9000/imgs/malestaffvoudcxvoudcx.13.jpg',\n",
      "   u'hdfs://ip-10-95-184-251:9000/imgs/malestaffvoudcxvoudcx.14.jpg',\n",
      "   u'hdfs://ip-10-95-184-251:9000/imgs/malestaffvoudcxvoudcx.16.jpg']),\n",
      " (75,\n",
      "  [u'hdfs://ip-10-95-184-251:9000/imgs/malestaffanonym2anonym2.11.jpg',\n",
      "   u'hdfs://ip-10-95-184-251:9000/imgs/malestaffanonym2anonym2.12.jpg',\n",
      "   u'hdfs://ip-10-95-184-251:9000/imgs/malestaffanonym2anonym2.2.jpg',\n",
      "   u'hdfs://ip-10-95-184-251:9000/imgs/malestaffanonym2anonym2.6.jpg',\n",
      "   u'hdfs://ip-10-95-184-251:9000/imgs/malestaffanonym2anonym2.7.jpg']),\n",
      " (80,\n",
      "  [u'hdfs://ip-10-95-184-251:9000/imgs/malestaffanonym2anonym2.14.jpg',\n",
      "   u'hdfs://ip-10-95-184-251:9000/imgs/malestaffanonym2anonym2.17.jpg',\n",
      "   u'hdfs://ip-10-95-184-251:9000/imgs/malestaffanonym2anonym2.20.jpg',\n",
      "   u'hdfs://ip-10-95-184-251:9000/imgs/malestaffanonym2anonym2.8.jpg',\n",
      "   u'hdfs://ip-10-95-184-251:9000/imgs/malestaffmaccimacci.12.jpg',\n",
      "   u'hdfs://ip-10-95-184-251:9000/imgs/malestaffmaccimacci.13.jpg',\n",
      "   u'hdfs://ip-10-95-184-251:9000/imgs/malestaffmaccimacci.16.jpg',\n",
      "   u'hdfs://ip-10-95-184-251:9000/imgs/malestaffmaccimacci.18.jpg',\n",
      "   u'hdfs://ip-10-95-184-251:9000/imgs/malestaffmaccimacci.20.jpg',\n",
      "   u'hdfs://ip-10-95-184-251:9000/imgs/malestaffmaccimacci.5.jpg',\n",
      "   u'hdfs://ip-10-95-184-251:9000/imgs/malestaffmaccimacci.8.jpg']),\n",
      " (85,\n",
      "  [u'hdfs://ip-10-95-184-251:9000/imgs/malestaffmichaelmichael.14.jpg',\n",
      "   u'hdfs://ip-10-95-184-251:9000/imgs/malestaffmichaelmichael.15.jpg',\n",
      "   u'hdfs://ip-10-95-184-251:9000/imgs/malestaffmichaelmichael.16.jpg',\n",
      "   u'hdfs://ip-10-95-184-251:9000/imgs/malestaffmichaelmichael.20.jpg',\n",
      "   u'hdfs://ip-10-95-184-251:9000/imgs/malestaffmichaelmichael.3.jpg',\n",
      "   u'hdfs://ip-10-95-184-251:9000/imgs/malestaffmichaelmichael.4.jpg',\n",
      "   u'hdfs://ip-10-95-184-251:9000/imgs/malestaffmichaelmichael.7.jpg']),\n",
      " (90, [u'hdfs://ip-10-95-184-251:9000/imgs/malestaffsandmsandm.19.jpg']),\n",
      " (95,\n",
      "  [u'hdfs://ip-10-95-184-251:9000/imgs/malestaffsandmsandm.1.jpg',\n",
      "   u'hdfs://ip-10-95-184-251:9000/imgs/malestaffsandmsandm.12.jpg',\n",
      "   u'hdfs://ip-10-95-184-251:9000/imgs/malestaffsandmsandm.13.jpg',\n",
      "   u'hdfs://ip-10-95-184-251:9000/imgs/malestaffsandmsandm.15.jpg',\n",
      "   u'hdfs://ip-10-95-184-251:9000/imgs/malestaffsandmsandm.17.jpg',\n",
      "   u'hdfs://ip-10-95-184-251:9000/imgs/malestaffsandmsandm.3.jpg',\n",
      "   u'hdfs://ip-10-95-184-251:9000/imgs/malestaffsandmsandm.9.jpg']),\n",
      " (100,\n",
      "  [u'hdfs://ip-10-95-184-251:9000/imgs/malestaffanonym1anonym1.11.jpg',\n",
      "   u'hdfs://ip-10-95-184-251:9000/imgs/malestaffanonym1anonym1.8.jpg',\n",
      "   u'hdfs://ip-10-95-184-251:9000/imgs/malestaffhartbhartb.1.jpg',\n",
      "   u'hdfs://ip-10-95-184-251:9000/imgs/malestaffhartbhartb.14.jpg',\n",
      "   u'hdfs://ip-10-95-184-251:9000/imgs/malestaffhartbhartb.15.jpg',\n",
      "   u'hdfs://ip-10-95-184-251:9000/imgs/malestaffhartbhartb.19.jpg',\n",
      "   u'hdfs://ip-10-95-184-251:9000/imgs/malestaffhartbhartb.3.jpg',\n",
      "   u'hdfs://ip-10-95-184-251:9000/imgs/malestaffhartbhartb.5.jpg',\n",
      "   u'hdfs://ip-10-95-184-251:9000/imgs/malestaffhartbhartb.9.jpg',\n",
      "   u'hdfs://ip-10-95-184-251:9000/imgs/malestaffobeidnobeidn.13.jpg',\n",
      "   u'hdfs://ip-10-95-184-251:9000/imgs/malestaffobeidnobeidn.15.jpg',\n",
      "   u'hdfs://ip-10-95-184-251:9000/imgs/malestaffobeidnobeidn.18.jpg',\n",
      "   u'hdfs://ip-10-95-184-251:9000/imgs/malestaffobeidnobeidn.20.jpg',\n",
      "   u'hdfs://ip-10-95-184-251:9000/imgs/malestaffspaclspacl.1.jpg',\n",
      "   u'hdfs://ip-10-95-184-251:9000/imgs/malestaffspaclspacl.14.jpg',\n",
      "   u'hdfs://ip-10-95-184-251:9000/imgs/malestaffspaclspacl.16.jpg',\n",
      "   u'hdfs://ip-10-95-184-251:9000/imgs/malestaffspaclspacl.20.jpg',\n",
      "   u'hdfs://ip-10-95-184-251:9000/imgs/malestaffspaclspacl.5.jpg',\n",
      "   u'hdfs://ip-10-95-184-251:9000/imgs/malestaffspaclspacl.7.jpg']),\n",
      " (105, [u'hdfs://ip-10-95-184-251:9000/imgs/malestaffanonym1anonym1.20.jpg']),\n",
      " (110,\n",
      "  [u'hdfs://ip-10-95-184-251:9000/imgs/malestaffhensmhensm.11.jpg',\n",
      "   u'hdfs://ip-10-95-184-251:9000/imgs/malestaffhensmhensm.7.jpg']),\n",
      " (115,\n",
      "  [u'hdfs://ip-10-95-184-251:9000/imgs/malestaffanonymanonym.12.jpg',\n",
      "   u'hdfs://ip-10-95-184-251:9000/imgs/malestaffanonymanonym.18.jpg',\n",
      "   u'hdfs://ip-10-95-184-251:9000/imgs/malestaffanonymanonym.3.jpg',\n",
      "   u'hdfs://ip-10-95-184-251:9000/imgs/malestaffanonymanonym.4.jpg',\n",
      "   u'hdfs://ip-10-95-184-251:9000/imgs/malestaffanonymanonym.5.jpg',\n",
      "   u'hdfs://ip-10-95-184-251:9000/imgs/malestaffanonymanonym.6.jpg',\n",
      "   u'hdfs://ip-10-95-184-251:9000/imgs/malestafffordjfordj.11.jpg',\n",
      "   u'hdfs://ip-10-95-184-251:9000/imgs/malestafffordjfordj.15.jpg',\n",
      "   u'hdfs://ip-10-95-184-251:9000/imgs/malestafffordjfordj.17.jpg',\n",
      "   u'hdfs://ip-10-95-184-251:9000/imgs/malestafffordjfordj.18.jpg',\n",
      "   u'hdfs://ip-10-95-184-251:9000/imgs/malestafffordjfordj.20.jpg',\n",
      "   u'hdfs://ip-10-95-184-251:9000/imgs/malestaffmoorsmoors.1.jpg',\n",
      "   u'hdfs://ip-10-95-184-251:9000/imgs/malestaffmoorsmoors.12.jpg',\n",
      "   u'hdfs://ip-10-95-184-251:9000/imgs/malestaffmoorsmoors.14.jpg',\n",
      "   u'hdfs://ip-10-95-184-251:9000/imgs/malestaffmoorsmoors.18.jpg',\n",
      "   u'hdfs://ip-10-95-184-251:9000/imgs/malestaffmoorsmoors.19.jpg',\n",
      "   u'hdfs://ip-10-95-184-251:9000/imgs/malestaffmoorsmoors.2.jpg',\n",
      "   u'hdfs://ip-10-95-184-251:9000/imgs/malestaffmoorsmoors.20.jpg',\n",
      "   u'hdfs://ip-10-95-184-251:9000/imgs/malestaffmoorsmoors.4.jpg']),\n",
      " (120,\n",
      "  [u'hdfs://ip-10-95-184-251:9000/imgs/malestafffordjfordj.1.jpg',\n",
      "   u'hdfs://ip-10-95-184-251:9000/imgs/malestafffordjfordj.2.jpg',\n",
      "   u'hdfs://ip-10-95-184-251:9000/imgs/malestafffordjfordj.5.jpg',\n",
      "   u'hdfs://ip-10-95-184-251:9000/imgs/malestafffordjfordj.9.jpg']),\n",
      " (125,\n",
      "  [u'hdfs://ip-10-95-184-251:9000/imgs/malestafflyondlyond.1.jpg',\n",
      "   u'hdfs://ip-10-95-184-251:9000/imgs/malestafflyondlyond.10.jpg',\n",
      "   u'hdfs://ip-10-95-184-251:9000/imgs/malestafflyondlyond.11.jpg',\n",
      "   u'hdfs://ip-10-95-184-251:9000/imgs/malestafflyondlyond.12.jpg',\n",
      "   u'hdfs://ip-10-95-184-251:9000/imgs/malestafflyondlyond.14.jpg',\n",
      "   u'hdfs://ip-10-95-184-251:9000/imgs/malestafflyondlyond.16.jpg',\n",
      "   u'hdfs://ip-10-95-184-251:9000/imgs/malestafflyondlyond.17.jpg',\n",
      "   u'hdfs://ip-10-95-184-251:9000/imgs/malestafflyondlyond.18.jpg',\n",
      "   u'hdfs://ip-10-95-184-251:9000/imgs/malestafflyondlyond.19.jpg']),\n",
      " (130,\n",
      "  [u'hdfs://ip-10-95-184-251:9000/imgs/malestafftonytony.15.jpg',\n",
      "   u'hdfs://ip-10-95-184-251:9000/imgs/malestafftonytony.16.jpg']),\n",
      " (135,\n",
      "  [u'hdfs://ip-10-95-184-251:9000/imgs/malestafftonytony.1.jpg',\n",
      "   u'hdfs://ip-10-95-184-251:9000/imgs/malestafftonytony.13.jpg',\n",
      "   u'hdfs://ip-10-95-184-251:9000/imgs/malestafftonytony.3.jpg'])]\n",
      "Grouping by green\n",
      "[(50,\n",
      "  [u'hdfs://ip-10-95-184-251:9000/imgs/malestaffmartinmartin.1.jpg',\n",
      "   u'hdfs://ip-10-95-184-251:9000/imgs/malestaffmartinmartin.13.jpg',\n",
      "   u'hdfs://ip-10-95-184-251:9000/imgs/malestaffmartinmartin.14.jpg',\n",
      "   u'hdfs://ip-10-95-184-251:9000/imgs/malestaffmartinmartin.15.jpg',\n",
      "   u'hdfs://ip-10-95-184-251:9000/imgs/malestaffmartinmartin.19.jpg',\n",
      "   u'hdfs://ip-10-95-184-251:9000/imgs/malestaffmartinmartin.20.jpg',\n",
      "   u'hdfs://ip-10-95-184-251:9000/imgs/malestaffmartinmartin.3.jpg',\n",
      "   u'hdfs://ip-10-95-184-251:9000/imgs/malestaffmartinmartin.5.jpg',\n",
      "   u'hdfs://ip-10-95-184-251:9000/imgs/malestaffmartinmartin.6.jpg',\n",
      "   u'hdfs://ip-10-95-184-251:9000/imgs/malestaffmartinmartin.7.jpg']),\n",
      " (60,\n",
      "  [u'hdfs://ip-10-95-184-251:9000/imgs/malestaffdorajdoraj.17.jpg',\n",
      "   u'hdfs://ip-10-95-184-251:9000/imgs/malestaffdorajdoraj.4.jpg',\n",
      "   u'hdfs://ip-10-95-184-251:9000/imgs/malestaffdorajdoraj.6.jpg',\n",
      "   u'hdfs://ip-10-95-184-251:9000/imgs/malestaffdorajdoraj.9.jpg',\n",
      "   u'hdfs://ip-10-95-184-251:9000/imgs/malestaffieorfieorf.9.jpg']),\n",
      " (65,\n",
      "  [u'hdfs://ip-10-95-184-251:9000/imgs/malestaffieorfieorf.13.jpg',\n",
      "   u'hdfs://ip-10-95-184-251:9000/imgs/malestaffieorfieorf.20.jpg',\n",
      "   u'hdfs://ip-10-95-184-251:9000/imgs/malestaffieorfieorf.3.jpg',\n",
      "   u'hdfs://ip-10-95-184-251:9000/imgs/malestaffieorfieorf.4.jpg',\n",
      "   u'hdfs://ip-10-95-184-251:9000/imgs/malestaffieorfieorf.8.jpg',\n",
      "   u'hdfs://ip-10-95-184-251:9000/imgs/malestaffrobinrobin.10.jpg',\n",
      "   u'hdfs://ip-10-95-184-251:9000/imgs/malestaffrobinrobin.14.jpg',\n",
      "   u'hdfs://ip-10-95-184-251:9000/imgs/malestaffrobinrobin.18.jpg',\n",
      "   u'hdfs://ip-10-95-184-251:9000/imgs/malestaffrobinrobin.19.jpg',\n",
      "   u'hdfs://ip-10-95-184-251:9000/imgs/malestaffrobinrobin.2.jpg',\n",
      "   u'hdfs://ip-10-95-184-251:9000/imgs/malestaffrobinrobin.3.jpg',\n",
      "   u'hdfs://ip-10-95-184-251:9000/imgs/malestaffrobinrobin.5.jpg']),\n",
      " (70,\n",
      "  [u'hdfs://ip-10-95-184-251:9000/imgs/malestaffcwangcwang.10.jpg',\n",
      "   u'hdfs://ip-10-95-184-251:9000/imgs/malestaffcwangcwang.11.jpg',\n",
      "   u'hdfs://ip-10-95-184-251:9000/imgs/malestaffvoudcxvoudcx.11.jpg',\n",
      "   u'hdfs://ip-10-95-184-251:9000/imgs/malestaffvoudcxvoudcx.13.jpg',\n",
      "   u'hdfs://ip-10-95-184-251:9000/imgs/malestaffvoudcxvoudcx.16.jpg',\n",
      "   u'hdfs://ip-10-95-184-251:9000/imgs/malestaffvoudcxvoudcx.7.jpg',\n",
      "   u'hdfs://ip-10-95-184-251:9000/imgs/malestaffvoudcxvoudcx.9.jpg']),\n",
      " (75,\n",
      "  [u'hdfs://ip-10-95-184-251:9000/imgs/malestaffanonym2anonym2.11.jpg',\n",
      "   u'hdfs://ip-10-95-184-251:9000/imgs/malestaffanonym2anonym2.12.jpg',\n",
      "   u'hdfs://ip-10-95-184-251:9000/imgs/malestaffanonym2anonym2.2.jpg',\n",
      "   u'hdfs://ip-10-95-184-251:9000/imgs/malestaffanonym2anonym2.6.jpg',\n",
      "   u'hdfs://ip-10-95-184-251:9000/imgs/malestaffanonym2anonym2.7.jpg',\n",
      "   u'hdfs://ip-10-95-184-251:9000/imgs/malestaffanonym2anonym2.8.jpg',\n",
      "   u'hdfs://ip-10-95-184-251:9000/imgs/malestaffcwangcwang.1.jpg',\n",
      "   u'hdfs://ip-10-95-184-251:9000/imgs/malestaffcwangcwang.12.jpg',\n",
      "   u'hdfs://ip-10-95-184-251:9000/imgs/malestaffcwangcwang.14.jpg',\n",
      "   u'hdfs://ip-10-95-184-251:9000/imgs/malestaffcwangcwang.17.jpg',\n",
      "   u'hdfs://ip-10-95-184-251:9000/imgs/malestaffcwangcwang.18.jpg',\n",
      "   u'hdfs://ip-10-95-184-251:9000/imgs/malestaffcwangcwang.20.jpg',\n",
      "   u'hdfs://ip-10-95-184-251:9000/imgs/malestaffcwangcwang.3.jpg',\n",
      "   u'hdfs://ip-10-95-184-251:9000/imgs/malestaffmaccimacci.12.jpg',\n",
      "   u'hdfs://ip-10-95-184-251:9000/imgs/malestaffmaccimacci.13.jpg',\n",
      "   u'hdfs://ip-10-95-184-251:9000/imgs/malestaffmaccimacci.16.jpg',\n",
      "   u'hdfs://ip-10-95-184-251:9000/imgs/malestaffmaccimacci.18.jpg',\n",
      "   u'hdfs://ip-10-95-184-251:9000/imgs/malestaffmaccimacci.20.jpg',\n",
      "   u'hdfs://ip-10-95-184-251:9000/imgs/malestaffmaccimacci.5.jpg',\n",
      "   u'hdfs://ip-10-95-184-251:9000/imgs/malestaffmaccimacci.8.jpg',\n",
      "   u'hdfs://ip-10-95-184-251:9000/imgs/malestaffvoudcxvoudcx.14.jpg']),\n",
      " (80,\n",
      "  [u'hdfs://ip-10-95-184-251:9000/imgs/malestaffanonym2anonym2.14.jpg',\n",
      "   u'hdfs://ip-10-95-184-251:9000/imgs/malestaffanonym2anonym2.17.jpg',\n",
      "   u'hdfs://ip-10-95-184-251:9000/imgs/malestaffanonym2anonym2.20.jpg',\n",
      "   u'hdfs://ip-10-95-184-251:9000/imgs/malestaffmichaelmichael.14.jpg',\n",
      "   u'hdfs://ip-10-95-184-251:9000/imgs/malestaffmichaelmichael.15.jpg',\n",
      "   u'hdfs://ip-10-95-184-251:9000/imgs/malestaffmichaelmichael.16.jpg',\n",
      "   u'hdfs://ip-10-95-184-251:9000/imgs/malestaffmichaelmichael.20.jpg',\n",
      "   u'hdfs://ip-10-95-184-251:9000/imgs/malestaffmichaelmichael.3.jpg',\n",
      "   u'hdfs://ip-10-95-184-251:9000/imgs/malestaffmichaelmichael.4.jpg',\n",
      "   u'hdfs://ip-10-95-184-251:9000/imgs/malestaffmichaelmichael.7.jpg']),\n",
      " (90,\n",
      "  [u'hdfs://ip-10-95-184-251:9000/imgs/malestaffspaclspacl.1.jpg',\n",
      "   u'hdfs://ip-10-95-184-251:9000/imgs/malestaffspaclspacl.14.jpg',\n",
      "   u'hdfs://ip-10-95-184-251:9000/imgs/malestaffspaclspacl.16.jpg',\n",
      "   u'hdfs://ip-10-95-184-251:9000/imgs/malestaffspaclspacl.20.jpg',\n",
      "   u'hdfs://ip-10-95-184-251:9000/imgs/malestaffspaclspacl.5.jpg',\n",
      "   u'hdfs://ip-10-95-184-251:9000/imgs/malestaffspaclspacl.7.jpg']),\n",
      " (95,\n",
      "  [u'hdfs://ip-10-95-184-251:9000/imgs/malestaffsandmsandm.1.jpg',\n",
      "   u'hdfs://ip-10-95-184-251:9000/imgs/malestaffsandmsandm.12.jpg',\n",
      "   u'hdfs://ip-10-95-184-251:9000/imgs/malestaffsandmsandm.13.jpg',\n",
      "   u'hdfs://ip-10-95-184-251:9000/imgs/malestaffsandmsandm.15.jpg',\n",
      "   u'hdfs://ip-10-95-184-251:9000/imgs/malestaffsandmsandm.17.jpg',\n",
      "   u'hdfs://ip-10-95-184-251:9000/imgs/malestaffsandmsandm.19.jpg',\n",
      "   u'hdfs://ip-10-95-184-251:9000/imgs/malestaffsandmsandm.3.jpg',\n",
      "   u'hdfs://ip-10-95-184-251:9000/imgs/malestaffsandmsandm.9.jpg']),\n",
      " (105,\n",
      "  [u'hdfs://ip-10-95-184-251:9000/imgs/malestaffanonym1anonym1.11.jpg',\n",
      "   u'hdfs://ip-10-95-184-251:9000/imgs/malestaffanonym1anonym1.20.jpg',\n",
      "   u'hdfs://ip-10-95-184-251:9000/imgs/malestaffanonym1anonym1.8.jpg',\n",
      "   u'hdfs://ip-10-95-184-251:9000/imgs/malestaffobeidnobeidn.13.jpg',\n",
      "   u'hdfs://ip-10-95-184-251:9000/imgs/malestaffobeidnobeidn.15.jpg',\n",
      "   u'hdfs://ip-10-95-184-251:9000/imgs/malestaffobeidnobeidn.18.jpg',\n",
      "   u'hdfs://ip-10-95-184-251:9000/imgs/malestaffobeidnobeidn.20.jpg']),\n",
      " (110,\n",
      "  [u'hdfs://ip-10-95-184-251:9000/imgs/malestaffhartbhartb.1.jpg',\n",
      "   u'hdfs://ip-10-95-184-251:9000/imgs/malestaffhartbhartb.14.jpg',\n",
      "   u'hdfs://ip-10-95-184-251:9000/imgs/malestaffhartbhartb.15.jpg',\n",
      "   u'hdfs://ip-10-95-184-251:9000/imgs/malestaffhartbhartb.19.jpg',\n",
      "   u'hdfs://ip-10-95-184-251:9000/imgs/malestaffhartbhartb.3.jpg',\n",
      "   u'hdfs://ip-10-95-184-251:9000/imgs/malestaffhartbhartb.5.jpg',\n",
      "   u'hdfs://ip-10-95-184-251:9000/imgs/malestaffhartbhartb.9.jpg',\n",
      "   u'hdfs://ip-10-95-184-251:9000/imgs/malestaffhensmhensm.11.jpg',\n",
      "   u'hdfs://ip-10-95-184-251:9000/imgs/malestaffhensmhensm.7.jpg',\n",
      "   u'hdfs://ip-10-95-184-251:9000/imgs/malestafflyondlyond.10.jpg',\n",
      "   u'hdfs://ip-10-95-184-251:9000/imgs/malestafflyondlyond.12.jpg',\n",
      "   u'hdfs://ip-10-95-184-251:9000/imgs/malestafflyondlyond.17.jpg',\n",
      "   u'hdfs://ip-10-95-184-251:9000/imgs/malestafflyondlyond.19.jpg',\n",
      "   u'hdfs://ip-10-95-184-251:9000/imgs/malestaffmoorsmoors.1.jpg',\n",
      "   u'hdfs://ip-10-95-184-251:9000/imgs/malestaffmoorsmoors.12.jpg',\n",
      "   u'hdfs://ip-10-95-184-251:9000/imgs/malestaffmoorsmoors.14.jpg',\n",
      "   u'hdfs://ip-10-95-184-251:9000/imgs/malestaffmoorsmoors.18.jpg',\n",
      "   u'hdfs://ip-10-95-184-251:9000/imgs/malestaffmoorsmoors.19.jpg',\n",
      "   u'hdfs://ip-10-95-184-251:9000/imgs/malestaffmoorsmoors.2.jpg',\n",
      "   u'hdfs://ip-10-95-184-251:9000/imgs/malestaffmoorsmoors.20.jpg',\n",
      "   u'hdfs://ip-10-95-184-251:9000/imgs/malestaffmoorsmoors.4.jpg']),\n",
      " (115,\n",
      "  [u'hdfs://ip-10-95-184-251:9000/imgs/malestafflyondlyond.1.jpg',\n",
      "   u'hdfs://ip-10-95-184-251:9000/imgs/malestafflyondlyond.11.jpg',\n",
      "   u'hdfs://ip-10-95-184-251:9000/imgs/malestafflyondlyond.14.jpg',\n",
      "   u'hdfs://ip-10-95-184-251:9000/imgs/malestafflyondlyond.16.jpg',\n",
      "   u'hdfs://ip-10-95-184-251:9000/imgs/malestafflyondlyond.18.jpg']),\n",
      " (120,\n",
      "  [u'hdfs://ip-10-95-184-251:9000/imgs/malestaffanonymanonym.18.jpg',\n",
      "   u'hdfs://ip-10-95-184-251:9000/imgs/malestaffanonymanonym.3.jpg',\n",
      "   u'hdfs://ip-10-95-184-251:9000/imgs/malestafftonytony.1.jpg',\n",
      "   u'hdfs://ip-10-95-184-251:9000/imgs/malestafftonytony.13.jpg',\n",
      "   u'hdfs://ip-10-95-184-251:9000/imgs/malestafftonytony.15.jpg',\n",
      "   u'hdfs://ip-10-95-184-251:9000/imgs/malestafftonytony.16.jpg']),\n",
      " (125,\n",
      "  [u'hdfs://ip-10-95-184-251:9000/imgs/malestaffanonymanonym.12.jpg',\n",
      "   u'hdfs://ip-10-95-184-251:9000/imgs/malestaffanonymanonym.4.jpg',\n",
      "   u'hdfs://ip-10-95-184-251:9000/imgs/malestaffanonymanonym.5.jpg',\n",
      "   u'hdfs://ip-10-95-184-251:9000/imgs/malestaffanonymanonym.6.jpg',\n",
      "   u'hdfs://ip-10-95-184-251:9000/imgs/malestafffordjfordj.1.jpg',\n",
      "   u'hdfs://ip-10-95-184-251:9000/imgs/malestafffordjfordj.11.jpg',\n",
      "   u'hdfs://ip-10-95-184-251:9000/imgs/malestafffordjfordj.15.jpg',\n",
      "   u'hdfs://ip-10-95-184-251:9000/imgs/malestafffordjfordj.17.jpg',\n",
      "   u'hdfs://ip-10-95-184-251:9000/imgs/malestafffordjfordj.18.jpg',\n",
      "   u'hdfs://ip-10-95-184-251:9000/imgs/malestafffordjfordj.2.jpg',\n",
      "   u'hdfs://ip-10-95-184-251:9000/imgs/malestafffordjfordj.20.jpg',\n",
      "   u'hdfs://ip-10-95-184-251:9000/imgs/malestafffordjfordj.5.jpg',\n",
      "   u'hdfs://ip-10-95-184-251:9000/imgs/malestafffordjfordj.9.jpg',\n",
      "   u'hdfs://ip-10-95-184-251:9000/imgs/malestafftonytony.3.jpg'])]\n",
      "Grouping by blue\n",
      "[(35,\n",
      "  [u'hdfs://ip-10-95-184-251:9000/imgs/malestaffmartinmartin.1.jpg',\n",
      "   u'hdfs://ip-10-95-184-251:9000/imgs/malestaffmartinmartin.13.jpg',\n",
      "   u'hdfs://ip-10-95-184-251:9000/imgs/malestaffmartinmartin.14.jpg',\n",
      "   u'hdfs://ip-10-95-184-251:9000/imgs/malestaffmartinmartin.15.jpg',\n",
      "   u'hdfs://ip-10-95-184-251:9000/imgs/malestaffmartinmartin.19.jpg',\n",
      "   u'hdfs://ip-10-95-184-251:9000/imgs/malestaffmartinmartin.20.jpg',\n",
      "   u'hdfs://ip-10-95-184-251:9000/imgs/malestaffmartinmartin.3.jpg',\n",
      "   u'hdfs://ip-10-95-184-251:9000/imgs/malestaffmartinmartin.5.jpg',\n",
      "   u'hdfs://ip-10-95-184-251:9000/imgs/malestaffmartinmartin.6.jpg',\n",
      "   u'hdfs://ip-10-95-184-251:9000/imgs/malestaffmartinmartin.7.jpg']),\n",
      " (40,\n",
      "  [u'hdfs://ip-10-95-184-251:9000/imgs/malestaffieorfieorf.13.jpg',\n",
      "   u'hdfs://ip-10-95-184-251:9000/imgs/malestaffieorfieorf.20.jpg',\n",
      "   u'hdfs://ip-10-95-184-251:9000/imgs/malestaffieorfieorf.3.jpg',\n",
      "   u'hdfs://ip-10-95-184-251:9000/imgs/malestaffieorfieorf.4.jpg',\n",
      "   u'hdfs://ip-10-95-184-251:9000/imgs/malestaffieorfieorf.8.jpg',\n",
      "   u'hdfs://ip-10-95-184-251:9000/imgs/malestaffieorfieorf.9.jpg']),\n",
      " (45,\n",
      "  [u'hdfs://ip-10-95-184-251:9000/imgs/malestaffcwangcwang.1.jpg',\n",
      "   u'hdfs://ip-10-95-184-251:9000/imgs/malestaffcwangcwang.10.jpg',\n",
      "   u'hdfs://ip-10-95-184-251:9000/imgs/malestaffcwangcwang.11.jpg',\n",
      "   u'hdfs://ip-10-95-184-251:9000/imgs/malestaffcwangcwang.12.jpg',\n",
      "   u'hdfs://ip-10-95-184-251:9000/imgs/malestaffcwangcwang.14.jpg',\n",
      "   u'hdfs://ip-10-95-184-251:9000/imgs/malestaffcwangcwang.17.jpg',\n",
      "   u'hdfs://ip-10-95-184-251:9000/imgs/malestaffcwangcwang.18.jpg',\n",
      "   u'hdfs://ip-10-95-184-251:9000/imgs/malestaffcwangcwang.20.jpg',\n",
      "   u'hdfs://ip-10-95-184-251:9000/imgs/malestaffcwangcwang.3.jpg']),\n",
      " (50,\n",
      "  [u'hdfs://ip-10-95-184-251:9000/imgs/malestaffanonym2anonym2.11.jpg',\n",
      "   u'hdfs://ip-10-95-184-251:9000/imgs/malestaffanonym2anonym2.12.jpg',\n",
      "   u'hdfs://ip-10-95-184-251:9000/imgs/malestaffanonym2anonym2.14.jpg',\n",
      "   u'hdfs://ip-10-95-184-251:9000/imgs/malestaffanonym2anonym2.17.jpg',\n",
      "   u'hdfs://ip-10-95-184-251:9000/imgs/malestaffanonym2anonym2.2.jpg',\n",
      "   u'hdfs://ip-10-95-184-251:9000/imgs/malestaffanonym2anonym2.20.jpg',\n",
      "   u'hdfs://ip-10-95-184-251:9000/imgs/malestaffanonym2anonym2.6.jpg',\n",
      "   u'hdfs://ip-10-95-184-251:9000/imgs/malestaffanonym2anonym2.7.jpg',\n",
      "   u'hdfs://ip-10-95-184-251:9000/imgs/malestaffanonym2anonym2.8.jpg',\n",
      "   u'hdfs://ip-10-95-184-251:9000/imgs/malestaffdorajdoraj.17.jpg',\n",
      "   u'hdfs://ip-10-95-184-251:9000/imgs/malestaffdorajdoraj.4.jpg',\n",
      "   u'hdfs://ip-10-95-184-251:9000/imgs/malestaffdorajdoraj.6.jpg',\n",
      "   u'hdfs://ip-10-95-184-251:9000/imgs/malestaffdorajdoraj.9.jpg',\n",
      "   u'hdfs://ip-10-95-184-251:9000/imgs/malestaffvoudcxvoudcx.7.jpg',\n",
      "   u'hdfs://ip-10-95-184-251:9000/imgs/malestaffvoudcxvoudcx.9.jpg']),\n",
      " (55,\n",
      "  [u'hdfs://ip-10-95-184-251:9000/imgs/malestaffmaccimacci.12.jpg',\n",
      "   u'hdfs://ip-10-95-184-251:9000/imgs/malestaffmaccimacci.13.jpg',\n",
      "   u'hdfs://ip-10-95-184-251:9000/imgs/malestaffmaccimacci.16.jpg',\n",
      "   u'hdfs://ip-10-95-184-251:9000/imgs/malestaffmaccimacci.18.jpg',\n",
      "   u'hdfs://ip-10-95-184-251:9000/imgs/malestaffmaccimacci.20.jpg',\n",
      "   u'hdfs://ip-10-95-184-251:9000/imgs/malestaffmaccimacci.5.jpg',\n",
      "   u'hdfs://ip-10-95-184-251:9000/imgs/malestaffmaccimacci.8.jpg',\n",
      "   u'hdfs://ip-10-95-184-251:9000/imgs/malestaffrobinrobin.10.jpg',\n",
      "   u'hdfs://ip-10-95-184-251:9000/imgs/malestaffrobinrobin.14.jpg',\n",
      "   u'hdfs://ip-10-95-184-251:9000/imgs/malestaffrobinrobin.18.jpg',\n",
      "   u'hdfs://ip-10-95-184-251:9000/imgs/malestaffrobinrobin.19.jpg',\n",
      "   u'hdfs://ip-10-95-184-251:9000/imgs/malestaffrobinrobin.2.jpg',\n",
      "   u'hdfs://ip-10-95-184-251:9000/imgs/malestaffrobinrobin.3.jpg',\n",
      "   u'hdfs://ip-10-95-184-251:9000/imgs/malestaffrobinrobin.5.jpg',\n",
      "   u'hdfs://ip-10-95-184-251:9000/imgs/malestaffvoudcxvoudcx.11.jpg',\n",
      "   u'hdfs://ip-10-95-184-251:9000/imgs/malestaffvoudcxvoudcx.13.jpg',\n",
      "   u'hdfs://ip-10-95-184-251:9000/imgs/malestaffvoudcxvoudcx.14.jpg',\n",
      "   u'hdfs://ip-10-95-184-251:9000/imgs/malestaffvoudcxvoudcx.16.jpg']),\n",
      " (60,\n",
      "  [u'hdfs://ip-10-95-184-251:9000/imgs/malestaffsandmsandm.13.jpg',\n",
      "   u'hdfs://ip-10-95-184-251:9000/imgs/malestaffsandmsandm.15.jpg',\n",
      "   u'hdfs://ip-10-95-184-251:9000/imgs/malestaffsandmsandm.3.jpg',\n",
      "   u'hdfs://ip-10-95-184-251:9000/imgs/malestaffspaclspacl.1.jpg',\n",
      "   u'hdfs://ip-10-95-184-251:9000/imgs/malestaffspaclspacl.14.jpg',\n",
      "   u'hdfs://ip-10-95-184-251:9000/imgs/malestaffspaclspacl.16.jpg',\n",
      "   u'hdfs://ip-10-95-184-251:9000/imgs/malestaffspaclspacl.20.jpg',\n",
      "   u'hdfs://ip-10-95-184-251:9000/imgs/malestaffspaclspacl.5.jpg',\n",
      "   u'hdfs://ip-10-95-184-251:9000/imgs/malestaffspaclspacl.7.jpg']),\n",
      " (65,\n",
      "  [u'hdfs://ip-10-95-184-251:9000/imgs/malestaffmichaelmichael.14.jpg',\n",
      "   u'hdfs://ip-10-95-184-251:9000/imgs/malestaffmichaelmichael.15.jpg',\n",
      "   u'hdfs://ip-10-95-184-251:9000/imgs/malestaffmichaelmichael.16.jpg',\n",
      "   u'hdfs://ip-10-95-184-251:9000/imgs/malestaffmichaelmichael.4.jpg',\n",
      "   u'hdfs://ip-10-95-184-251:9000/imgs/malestaffmichaelmichael.7.jpg',\n",
      "   u'hdfs://ip-10-95-184-251:9000/imgs/malestaffsandmsandm.1.jpg',\n",
      "   u'hdfs://ip-10-95-184-251:9000/imgs/malestaffsandmsandm.12.jpg',\n",
      "   u'hdfs://ip-10-95-184-251:9000/imgs/malestaffsandmsandm.17.jpg',\n",
      "   u'hdfs://ip-10-95-184-251:9000/imgs/malestaffsandmsandm.19.jpg',\n",
      "   u'hdfs://ip-10-95-184-251:9000/imgs/malestaffsandmsandm.9.jpg']),\n",
      " (70,\n",
      "  [u'hdfs://ip-10-95-184-251:9000/imgs/malestaffanonym1anonym1.11.jpg',\n",
      "   u'hdfs://ip-10-95-184-251:9000/imgs/malestaffanonym1anonym1.8.jpg',\n",
      "   u'hdfs://ip-10-95-184-251:9000/imgs/malestaffhartbhartb.1.jpg',\n",
      "   u'hdfs://ip-10-95-184-251:9000/imgs/malestaffhartbhartb.14.jpg',\n",
      "   u'hdfs://ip-10-95-184-251:9000/imgs/malestaffhartbhartb.15.jpg',\n",
      "   u'hdfs://ip-10-95-184-251:9000/imgs/malestaffhartbhartb.19.jpg',\n",
      "   u'hdfs://ip-10-95-184-251:9000/imgs/malestaffhartbhartb.3.jpg',\n",
      "   u'hdfs://ip-10-95-184-251:9000/imgs/malestaffhartbhartb.5.jpg',\n",
      "   u'hdfs://ip-10-95-184-251:9000/imgs/malestaffhartbhartb.9.jpg',\n",
      "   u'hdfs://ip-10-95-184-251:9000/imgs/malestaffmichaelmichael.20.jpg',\n",
      "   u'hdfs://ip-10-95-184-251:9000/imgs/malestaffmichaelmichael.3.jpg']),\n",
      " (75,\n",
      "  [u'hdfs://ip-10-95-184-251:9000/imgs/malestaffanonym1anonym1.20.jpg',\n",
      "   u'hdfs://ip-10-95-184-251:9000/imgs/malestaffhensmhensm.11.jpg',\n",
      "   u'hdfs://ip-10-95-184-251:9000/imgs/malestaffhensmhensm.7.jpg',\n",
      "   u'hdfs://ip-10-95-184-251:9000/imgs/malestaffmoorsmoors.12.jpg',\n",
      "   u'hdfs://ip-10-95-184-251:9000/imgs/malestaffmoorsmoors.2.jpg',\n",
      "   u'hdfs://ip-10-95-184-251:9000/imgs/malestaffmoorsmoors.20.jpg',\n",
      "   u'hdfs://ip-10-95-184-251:9000/imgs/malestaffobeidnobeidn.13.jpg',\n",
      "   u'hdfs://ip-10-95-184-251:9000/imgs/malestaffobeidnobeidn.15.jpg',\n",
      "   u'hdfs://ip-10-95-184-251:9000/imgs/malestaffobeidnobeidn.18.jpg',\n",
      "   u'hdfs://ip-10-95-184-251:9000/imgs/malestaffobeidnobeidn.20.jpg']),\n",
      " (80,\n",
      "  [u'hdfs://ip-10-95-184-251:9000/imgs/malestaffmoorsmoors.1.jpg',\n",
      "   u'hdfs://ip-10-95-184-251:9000/imgs/malestaffmoorsmoors.14.jpg',\n",
      "   u'hdfs://ip-10-95-184-251:9000/imgs/malestaffmoorsmoors.18.jpg',\n",
      "   u'hdfs://ip-10-95-184-251:9000/imgs/malestaffmoorsmoors.19.jpg',\n",
      "   u'hdfs://ip-10-95-184-251:9000/imgs/malestaffmoorsmoors.4.jpg']),\n",
      " (85,\n",
      "  [u'hdfs://ip-10-95-184-251:9000/imgs/malestaffanonymanonym.12.jpg',\n",
      "   u'hdfs://ip-10-95-184-251:9000/imgs/malestaffanonymanonym.18.jpg',\n",
      "   u'hdfs://ip-10-95-184-251:9000/imgs/malestaffanonymanonym.3.jpg',\n",
      "   u'hdfs://ip-10-95-184-251:9000/imgs/malestaffanonymanonym.4.jpg',\n",
      "   u'hdfs://ip-10-95-184-251:9000/imgs/malestaffanonymanonym.5.jpg',\n",
      "   u'hdfs://ip-10-95-184-251:9000/imgs/malestaffanonymanonym.6.jpg',\n",
      "   u'hdfs://ip-10-95-184-251:9000/imgs/malestafflyondlyond.1.jpg',\n",
      "   u'hdfs://ip-10-95-184-251:9000/imgs/malestafflyondlyond.10.jpg',\n",
      "   u'hdfs://ip-10-95-184-251:9000/imgs/malestafflyondlyond.11.jpg',\n",
      "   u'hdfs://ip-10-95-184-251:9000/imgs/malestafflyondlyond.12.jpg',\n",
      "   u'hdfs://ip-10-95-184-251:9000/imgs/malestafflyondlyond.14.jpg',\n",
      "   u'hdfs://ip-10-95-184-251:9000/imgs/malestafflyondlyond.16.jpg',\n",
      "   u'hdfs://ip-10-95-184-251:9000/imgs/malestafflyondlyond.17.jpg',\n",
      "   u'hdfs://ip-10-95-184-251:9000/imgs/malestafflyondlyond.18.jpg',\n",
      "   u'hdfs://ip-10-95-184-251:9000/imgs/malestafflyondlyond.19.jpg']),\n",
      " (90,\n",
      "  [u'hdfs://ip-10-95-184-251:9000/imgs/malestafffordjfordj.1.jpg',\n",
      "   u'hdfs://ip-10-95-184-251:9000/imgs/malestafffordjfordj.11.jpg',\n",
      "   u'hdfs://ip-10-95-184-251:9000/imgs/malestafffordjfordj.15.jpg',\n",
      "   u'hdfs://ip-10-95-184-251:9000/imgs/malestafffordjfordj.17.jpg',\n",
      "   u'hdfs://ip-10-95-184-251:9000/imgs/malestafffordjfordj.18.jpg',\n",
      "   u'hdfs://ip-10-95-184-251:9000/imgs/malestafffordjfordj.2.jpg',\n",
      "   u'hdfs://ip-10-95-184-251:9000/imgs/malestafffordjfordj.20.jpg',\n",
      "   u'hdfs://ip-10-95-184-251:9000/imgs/malestafffordjfordj.5.jpg',\n",
      "   u'hdfs://ip-10-95-184-251:9000/imgs/malestafffordjfordj.9.jpg',\n",
      "   u'hdfs://ip-10-95-184-251:9000/imgs/malestafftonytony.15.jpg',\n",
      "   u'hdfs://ip-10-95-184-251:9000/imgs/malestafftonytony.16.jpg']),\n",
      " (95,\n",
      "  [u'hdfs://ip-10-95-184-251:9000/imgs/malestafftonytony.1.jpg',\n",
      "   u'hdfs://ip-10-95-184-251:9000/imgs/malestafftonytony.13.jpg',\n",
      "   u'hdfs://ip-10-95-184-251:9000/imgs/malestafftonytony.3.jpg'])]\n"
     ]
    }
   ],
   "source": [
    "for label, band in labels_bands:\n",
    "    rand_groups = img_mapped.map(\n",
    "                lambda (fname, img): (int(np.mean(img[:,:, band]) // 5) * 5, fname)\n",
    "            ).groupByKey(\n",
    "            ).map(\n",
    "                lambda (group, fnames): (group, list(fnames))\n",
    "            ).sortByKey(\n",
    "            )\n",
    "    print('Grouping by', label)\n",
    "    pprint(rand_groups.collect())\n",
    "\n"
   ]
  },
  {
   "cell_type": "markdown",
   "metadata": {},
   "source": [
    "#### The next few steps load the configuration yaml file for image-analyzer, set an output hdfs location, and apply the map_each_image function to write an RDD of image measurements to HDFS"
   ]
  },
  {
   "cell_type": "code",
   "execution_count": 126,
   "metadata": {
    "collapsed": false
   },
   "outputs": [
    {
     "data": {
      "text/plain": [
       "PythonRDD[419] at RDD at PythonRDD.scala:43"
      ]
     },
     "execution_count": 126,
     "metadata": {},
     "output_type": "execute_result"
    }
   ],
   "source": [
    "import yaml\n",
    "from map_each_image import map_each_image\n",
    "config = yaml.load(open('config.yaml').read())\n",
    "config['random_state'] = 42\n",
    "# make a new filename each time for the demo starting with /t1/map_each_image/ \n",
    "output_hdfs = '/t1/map_each_image/measures_8'  \n",
    "input_file_spec = '/imgs/malestaff*'\n",
    "measures = map_each_image(sc, config, input_file_spec, output_hdfs)\n",
    "measures"
   ]
  },
  {
   "cell_type": "markdown",
   "metadata": {},
   "source": [
    "#### later load the image measurements from HDFS using unpickling"
   ]
  },
  {
   "cell_type": "code",
   "execution_count": 127,
   "metadata": {
    "collapsed": false
   },
   "outputs": [
    {
     "data": {
      "text/plain": [
       "[(u'hdfs://ip-10-95-184-251:9000/imgs/malestaffanonym1anonym1.11.jpg',\n",
       "  {'cen': array([ 0.45033672,  0.63002706,  0.24756569,  0.10609439,  0.10652294,\n",
       "           0.10405473,  0.98829114,  0.81236833,  0.7515012 ,  0.31112835,\n",
       "           0.28374338,  0.26491776,  0.37117678,  0.50180066,  0.15738003,\n",
       "           0.95043582,  0.63999772,  0.60735929,  0.46374711,  0.3828384 ,\n",
       "           0.3455241 ,  0.53057158,  0.639386  ,  0.84825116,  0.38541538,\n",
       "           0.55300885,  0.22826292,  0.65902579,  0.50548172,  0.50747198,\n",
       "           0.04695916,  0.05420781,  0.0555218 ,  0.20017309,  0.19093239,\n",
       "           0.18037727], dtype=float32),\n",
       "   'histo': array([ 0.04643805,  0.09260353,  0.19718982,  0.3818205 ,  0.47212642,\n",
       "           0.69891268,  0.99839503,  0.05481956,  0.09406018,  0.18146341,\n",
       "           0.49939993,  0.59083205,  0.64937669,  0.81560934,  0.04943289,\n",
       "           0.0914389 ,  0.1412462 ,  0.22058824,  0.35655639,  0.57910204,\n",
       "           0.76368791], dtype=float32),\n",
       "   'id': u'hdfs://ip-10-95-184-251:9000/imgs/malestaffanonym1anonym1.11.jpg',\n",
       "   'meta': {'app_APP0': 'JFIF\\x00\\x01\\x01\\x00\\x00\\x01\\x00\\x01\\x00\\x00',\n",
       "    'format': 'JPEG',\n",
       "    'format_description': 'JPEG (ISO 10918)',\n",
       "    'info_jfif': 257,\n",
       "    'info_jfif_density': (1, 1),\n",
       "    'info_jfif_unit': 0,\n",
       "    'info_jfif_version': (1, 1),\n",
       "    'is_full': True},\n",
       "   'pca_fac': array([-0.6765985 , -0.54431086, -0.49592354,  0.1389289 , -0.75575376,\n",
       "           0.63994923, -0.7231274 ,  0.36409058,  0.58696237]),\n",
       "   'pca_var': array([ 0.16272203,  0.01582248,  0.00421998]),\n",
       "   'phash': [5547770022037379495,\n",
       "    -4464472279449722529,\n",
       "    8991536975983592836,\n",
       "    -1913716926487414531,\n",
       "    658254776908194609,\n",
       "    -5256849051378523195,\n",
       "    -5199360063418490102],\n",
       "   'ward': (4390753332276699091,\n",
       "    9187175353382498843,\n",
       "    3021768628279206085,\n",
       "    6276995473865984280,\n",
       "    8499270788950564281,\n",
       "    -1842252707656104988,\n",
       "    3089103728550035081,\n",
       "    -5969372546286626161)})]"
      ]
     },
     "execution_count": 127,
     "metadata": {},
     "output_type": "execute_result"
    }
   ],
   "source": [
    "measures = sc.pickleFile(output_hdfs)\n",
    "measures.take(1) # don't call .collect() here"
   ]
  },
  {
   "cell_type": "markdown",
   "metadata": {},
   "source": [
    "#### From the image analyzer code we know that the <code>'histo'</code> key is the 3 band histogram flattened into one array, so we can check its size and know where the median colors are.  For example, if it is 21 elements long, then the first 7 are the red histogram and the middle of those 7 elements is the median red color."
   ]
  },
  {
   "cell_type": "code",
   "execution_count": 128,
   "metadata": {
    "collapsed": true
   },
   "outputs": [],
   "source": [
    "def get_median_from_histo(histo, band):\n",
    "    lh = len(histo) // 3\n",
    "    return histo[lh // 2 + 1 + band * lh]"
   ]
  },
  {
   "cell_type": "markdown",
   "metadata": {},
   "source": [
    "#### As an exercise, sort the images by median color in each band, take the 5 image file names that are lowest in that color"
   ]
  },
  {
   "cell_type": "code",
   "execution_count": 130,
   "metadata": {
    "collapsed": false
   },
   "outputs": [
    {
     "name": "stdout",
     "output_type": "stream",
     "text": [
      "Lowest 5 images in red \n",
      "[u'hdfs://ip-10-95-184-251:9000/imgs/malestaffmartinmartin.3.jpg',\n",
      " u'hdfs://ip-10-95-184-251:9000/imgs/malestaffmartinmartin.6.jpg',\n",
      " u'hdfs://ip-10-95-184-251:9000/imgs/malestaffmartinmartin.20.jpg',\n",
      " u'hdfs://ip-10-95-184-251:9000/imgs/malestaffmartinmartin.17.jpg',\n",
      " u'hdfs://ip-10-95-184-251:9000/imgs/malestaffmartinmartin.15.jpg']\n",
      "Lowest 5 images in green \n",
      "[u'hdfs://ip-10-95-184-251:9000/imgs/malestaffmartinmartin.20.jpg',\n",
      " u'hdfs://ip-10-95-184-251:9000/imgs/malestaffmartinmartin.5.jpg',\n",
      " u'hdfs://ip-10-95-184-251:9000/imgs/malestaffmartinmartin.19.jpg',\n",
      " u'hdfs://ip-10-95-184-251:9000/imgs/malestaffmartinmartin.3.jpg',\n",
      " u'hdfs://ip-10-95-184-251:9000/imgs/malestaffmartinmartin.1.jpg']\n",
      "Lowest 5 images in blue \n",
      "[u'hdfs://ip-10-95-184-251:9000/imgs/malestaffmartinmartin.6.jpg',\n",
      " u'hdfs://ip-10-95-184-251:9000/imgs/malestaffmartinmartin.3.jpg',\n",
      " u'hdfs://ip-10-95-184-251:9000/imgs/malestaffmartinmartin.14.jpg',\n",
      " u'hdfs://ip-10-95-184-251:9000/imgs/malestaffmartinmartin.1.jpg',\n",
      " u'hdfs://ip-10-95-184-251:9000/imgs/malestaffmartinmartin.7.jpg']\n"
     ]
    },
    {
     "data": {
      "text/plain": [
       "810"
      ]
     },
     "execution_count": 130,
     "metadata": {},
     "output_type": "execute_result"
    }
   ],
   "source": [
    "for label, band in labels_bands:\n",
    "    sorted_filenames = measures.sortBy(\n",
    "        lambda (key, value): get_median_from_histo(value['histo'], band)\n",
    "    ).map(\n",
    "        lambda (key, value): key\n",
    "    ).collect()\n",
    "    print('Lowest 5 images in %s ' % label)\n",
    "    pprint(sorted_filenames[:5])\n"
   ]
  },
  {
   "cell_type": "markdown",
   "metadata": {},
   "source": [
    "####Make a function to print out images in the same order they are found in <code>measures</code>."
   ]
  },
  {
   "cell_type": "markdown",
   "metadata": {},
   "source": [
    "#### Joins in PySpark work on RDDs, using equality on the first item in tuples to determine the join\n",
    "\n",
    "Here is are several join examples with a 2 lists of tuples that are spark RDDs from python lists"
   ]
  },
  {
   "cell_type": "code",
   "execution_count": 131,
   "metadata": {
    "collapsed": false
   },
   "outputs": [
    {
     "data": {
      "text/plain": [
       "[(1, (1, 2)), (3, (3, 4))]"
      ]
     },
     "execution_count": 131,
     "metadata": {},
     "output_type": "execute_result"
    }
   ],
   "source": [
    "list_a = sc.parallelize([(1, 1), (3, 3), (5, 10)]) # a has some keys not in b's keys\n",
    "list_b = sc.parallelize([(1, 2), (3, 4), (7, 12)]) # b has some keys not in a's keys\n",
    "list_a.join(list_b).collect()"
   ]
  },
  {
   "cell_type": "code",
   "execution_count": 132,
   "metadata": {
    "collapsed": false
   },
   "outputs": [
    {
     "data": {
      "text/plain": [
       "[(1, (2, 1)), (3, (4, 3))]"
      ]
     },
     "execution_count": 132,
     "metadata": {},
     "output_type": "execute_result"
    }
   ],
   "source": [
    "list_b.join(list_a).collect()"
   ]
  },
  {
   "cell_type": "code",
   "execution_count": 133,
   "metadata": {
    "collapsed": false
   },
   "outputs": [
    {
     "data": {
      "text/plain": [
       "[(1, (1, 2)), (3, (3, 4)), (7, (None, 12))]"
      ]
     },
     "execution_count": 133,
     "metadata": {},
     "output_type": "execute_result"
    }
   ],
   "source": [
    "list_a.rightOuterJoin(list_b).collect()"
   ]
  },
  {
   "cell_type": "code",
   "execution_count": 134,
   "metadata": {
    "collapsed": false
   },
   "outputs": [
    {
     "data": {
      "text/plain": [
       "[(1, (2, 1)), (3, (4, 3)), (7, (12, None))]"
      ]
     },
     "execution_count": 134,
     "metadata": {},
     "output_type": "execute_result"
    }
   ],
   "source": [
    "list_b.leftOuterJoin(list_a).collect()"
   ]
  },
  {
   "cell_type": "code",
   "execution_count": 135,
   "metadata": {
    "collapsed": false
   },
   "outputs": [
    {
     "data": {
      "text/plain": [
       "[(1, (2, 1)), (3, (4, 3)), (5, (None, 10))]"
      ]
     },
     "execution_count": 135,
     "metadata": {},
     "output_type": "execute_result"
    }
   ],
   "source": [
    "list_b.rightOuterJoin(list_a).collect()"
   ]
  },
  {
   "cell_type": "code",
   "execution_count": 136,
   "metadata": {
    "collapsed": false
   },
   "outputs": [
    {
     "data": {
      "text/plain": [
       "[(1, (1, 2)), (3, (3, 4)), (5, (10, None))]"
      ]
     },
     "execution_count": 136,
     "metadata": {},
     "output_type": "execute_result"
    }
   ],
   "source": [
    "list_a.leftOuterJoin(list_b).collect()"
   ]
  },
  {
   "cell_type": "code",
   "execution_count": 137,
   "metadata": {
    "collapsed": false
   },
   "outputs": [
    {
     "data": {
      "text/plain": [
       "[(1, (1, 2)), (3, (3, 4)), (5, (10, None)), (7, (None, 12))]"
      ]
     },
     "execution_count": 137,
     "metadata": {},
     "output_type": "execute_result"
    }
   ],
   "source": [
    "list_a.fullOuterJoin(list_b).collect()"
   ]
  },
  {
   "cell_type": "markdown",
   "metadata": {},
   "source": [
    "#### Joins with the image data\n",
    "In the example images we have <code>hdfs:///imgs/</code> which includes the original and <code>hdfs:///fuzzy/</code> which is a fuzzy version of those.  We can map the measurements of fuzzy and original images and join on ward cluster hashes.  In each image's measures dictionary, the ward clusters are saved in a list, as shown above.  We can use <code>flatMap</code> to flatten that list and create an RDD with tuples of <code>(one_ward_cluster_hash, image_file_name)</code>."
   ]
  },
  {
   "cell_type": "code",
   "execution_count": 138,
   "metadata": {
    "collapsed": true
   },
   "outputs": [],
   "source": [
    "candidates = sc.pickleFile('hdfs:///t1/candidates/c1/measures')"
   ]
  },
  {
   "cell_type": "code",
   "execution_count": 139,
   "metadata": {
    "collapsed": true
   },
   "outputs": [],
   "source": [
    "def flatten_ward(rdd):\n",
    "    return rdd.flatMap(lambda (key, value): [(wc, key) for wc in value['ward']])"
   ]
  },
  {
   "cell_type": "code",
   "execution_count": 141,
   "metadata": {
    "collapsed": false
   },
   "outputs": [
    {
     "name": "stdout",
     "output_type": "stream",
     "text": [
      "[(3031575136247091488,\n",
      "  u'hdfs://ip-10-95-184-251:9000/fuzzy/femaleekavazekavaz.8.jpg')]\n",
      "[(4390753332276699091,\n",
      "  u'hdfs://ip-10-95-184-251:9000/imgs/malestaffanonym1anonym1.11.jpg')]\n"
     ]
    }
   ],
   "source": [
    "candidates_flat = flatten_ward(candidates)\n",
    "originals_flat = flatten_ward(measures)\n",
    "pprint(candidates_flat.take(1))\n",
    "pprint(originals_flat.take(1))"
   ]
  },
  {
   "cell_type": "code",
   "execution_count": 142,
   "metadata": {
    "collapsed": false
   },
   "outputs": [],
   "source": [
    "joined = candidates_flat.join(originals_flat)"
   ]
  },
  {
   "cell_type": "code",
   "execution_count": 143,
   "metadata": {
    "collapsed": false
   },
   "outputs": [
    {
     "data": {
      "text/plain": [
       "[(-1842252707656104988,\n",
       "  [(u'hdfs://ip-10-95-184-251:9000/fuzzy/femaleekavazekavaz.8.jpg',\n",
       "    u'hdfs://ip-10-95-184-251:9000/imgs/malestaffanonym1anonym1.11.jpg'),\n",
       "   (u'hdfs://ip-10-95-184-251:9000/fuzzy/femaleekavazekavaz.8.jpg',\n",
       "    u'hdfs://ip-10-95-184-251:9000/imgs/malestaffcwangcwang.20.jpg'),\n",
       "   (u'hdfs://ip-10-95-184-251:9000/fuzzy/femaleekavazekavaz.8.jpg',\n",
       "    u'hdfs://ip-10-95-184-251:9000/imgs/malestaffdorajdoraj.13.jpg'),\n",
       "   (u'hdfs://ip-10-95-184-251:9000/fuzzy/femaleekavazekavaz.8.jpg',\n",
       "    u'hdfs://ip-10-95-184-251:9000/imgs/malestaffdorajdoraj.6.jpg'),\n",
       "   (u'hdfs://ip-10-95-184-251:9000/fuzzy/femaleekavazekavaz.8.jpg',\n",
       "    u'hdfs://ip-10-95-184-251:9000/imgs/malestaffdorajdoraj.9.jpg'),\n",
       "   (u'hdfs://ip-10-95-184-251:9000/fuzzy/femalembutlembutle.19.jpg',\n",
       "    u'hdfs://ip-10-95-184-251:9000/imgs/malestaffanonym1anonym1.11.jpg'),\n",
       "   (u'hdfs://ip-10-95-184-251:9000/fuzzy/femalembutlembutle.19.jpg',\n",
       "    u'hdfs://ip-10-95-184-251:9000/imgs/malestaffcwangcwang.20.jpg'),\n",
       "   (u'hdfs://ip-10-95-184-251:9000/fuzzy/femalembutlembutle.19.jpg',\n",
       "    u'hdfs://ip-10-95-184-251:9000/imgs/malestaffdorajdoraj.13.jpg'),\n",
       "   (u'hdfs://ip-10-95-184-251:9000/fuzzy/femalembutlembutle.19.jpg',\n",
       "    u'hdfs://ip-10-95-184-251:9000/imgs/malestaffdorajdoraj.6.jpg'),\n",
       "   (u'hdfs://ip-10-95-184-251:9000/fuzzy/femalembutlembutle.19.jpg',\n",
       "    u'hdfs://ip-10-95-184-251:9000/imgs/malestaffdorajdoraj.9.jpg'),\n",
       "   (u'hdfs://ip-10-95-184-251:9000/fuzzy/malecjcarrcjcarr.18.jpg',\n",
       "    u'hdfs://ip-10-95-184-251:9000/imgs/malestaffanonym1anonym1.11.jpg'),\n",
       "   (u'hdfs://ip-10-95-184-251:9000/fuzzy/malecjcarrcjcarr.18.jpg',\n",
       "    u'hdfs://ip-10-95-184-251:9000/imgs/malestaffcwangcwang.20.jpg'),\n",
       "   (u'hdfs://ip-10-95-184-251:9000/fuzzy/malecjcarrcjcarr.18.jpg',\n",
       "    u'hdfs://ip-10-95-184-251:9000/imgs/malestaffdorajdoraj.13.jpg'),\n",
       "   (u'hdfs://ip-10-95-184-251:9000/fuzzy/malecjcarrcjcarr.18.jpg',\n",
       "    u'hdfs://ip-10-95-184-251:9000/imgs/malestaffdorajdoraj.6.jpg'),\n",
       "   (u'hdfs://ip-10-95-184-251:9000/fuzzy/malecjcarrcjcarr.18.jpg',\n",
       "    u'hdfs://ip-10-95-184-251:9000/imgs/malestaffdorajdoraj.9.jpg')]),\n",
       " (4797748490654898946,\n",
       "  [(u'hdfs://ip-10-95-184-251:9000/fuzzy/malegmwategmwate.2.jpg',\n",
       "    u'hdfs://ip-10-95-184-251:9000/imgs/malestaffanonym2anonym2.11.jpg'),\n",
       "   (u'hdfs://ip-10-95-184-251:9000/fuzzy/malegmwategmwate.2.jpg',\n",
       "    u'hdfs://ip-10-95-184-251:9000/imgs/malestaffanonym2anonym2.11.jpg'),\n",
       "   (u'hdfs://ip-10-95-184-251:9000/fuzzy/malegmwategmwate.2.jpg',\n",
       "    u'hdfs://ip-10-95-184-251:9000/imgs/malestaffanonym2anonym2.12.jpg'),\n",
       "   (u'hdfs://ip-10-95-184-251:9000/fuzzy/malegmwategmwate.2.jpg',\n",
       "    u'hdfs://ip-10-95-184-251:9000/imgs/malestaffanonym2anonym2.2.jpg'),\n",
       "   (u'hdfs://ip-10-95-184-251:9000/fuzzy/malegmwategmwate.2.jpg',\n",
       "    u'hdfs://ip-10-95-184-251:9000/imgs/malestaffanonym2anonym2.6.jpg'),\n",
       "   (u'hdfs://ip-10-95-184-251:9000/fuzzy/malegmwategmwate.2.jpg',\n",
       "    u'hdfs://ip-10-95-184-251:9000/imgs/malestaffanonym2anonym2.7.jpg'),\n",
       "   (u'hdfs://ip-10-95-184-251:9000/fuzzy/malegmwategmwate.2.jpg',\n",
       "    u'hdfs://ip-10-95-184-251:9000/imgs/malestaffanonym2anonym2.8.jpg'),\n",
       "   (u'hdfs://ip-10-95-184-251:9000/fuzzy/malegmwategmwate.2.jpg',\n",
       "    u'hdfs://ip-10-95-184-251:9000/imgs/malestaffcwangcwang.10.jpg'),\n",
       "   (u'hdfs://ip-10-95-184-251:9000/fuzzy/malegmwategmwate.2.jpg',\n",
       "    u'hdfs://ip-10-95-184-251:9000/imgs/malestaffcwangcwang.11.jpg'),\n",
       "   (u'hdfs://ip-10-95-184-251:9000/fuzzy/malegmwategmwate.2.jpg',\n",
       "    u'hdfs://ip-10-95-184-251:9000/imgs/malestaffieorfieorf.13.jpg'),\n",
       "   (u'hdfs://ip-10-95-184-251:9000/fuzzy/malegmwategmwate.2.jpg',\n",
       "    u'hdfs://ip-10-95-184-251:9000/imgs/malestafflyondlyond.14.jpg'),\n",
       "   (u'hdfs://ip-10-95-184-251:9000/fuzzy/malegmwategmwate.2.jpg',\n",
       "    u'hdfs://ip-10-95-184-251:9000/imgs/malestaffmichaelmichael.20.jpg'),\n",
       "   (u'hdfs://ip-10-95-184-251:9000/fuzzy/malegmwategmwate.2.jpg',\n",
       "    u'hdfs://ip-10-95-184-251:9000/imgs/malestaffmichaelmichael.20.jpg'),\n",
       "   (u'hdfs://ip-10-95-184-251:9000/fuzzy/malegmwategmwate.2.jpg',\n",
       "    u'hdfs://ip-10-95-184-251:9000/imgs/malestaffmichaelmichael.20.jpg'),\n",
       "   (u'hdfs://ip-10-95-184-251:9000/fuzzy/malegmwategmwate.2.jpg',\n",
       "    u'hdfs://ip-10-95-184-251:9000/imgs/malestaffmichaelmichael.3.jpg'),\n",
       "   (u'hdfs://ip-10-95-184-251:9000/fuzzy/malegmwategmwate.2.jpg',\n",
       "    u'hdfs://ip-10-95-184-251:9000/imgs/malestaffmoorsmoors.12.jpg'),\n",
       "   (u'hdfs://ip-10-95-184-251:9000/fuzzy/malegmwategmwate.2.jpg',\n",
       "    u'hdfs://ip-10-95-184-251:9000/imgs/malestaffmoorsmoors.12.jpg'),\n",
       "   (u'hdfs://ip-10-95-184-251:9000/fuzzy/malegmwategmwate.2.jpg',\n",
       "    u'hdfs://ip-10-95-184-251:9000/imgs/malestaffmoorsmoors.19.jpg'),\n",
       "   (u'hdfs://ip-10-95-184-251:9000/fuzzy/malegmwategmwate.2.jpg',\n",
       "    u'hdfs://ip-10-95-184-251:9000/imgs/malestaffmoorsmoors.2.jpg'),\n",
       "   (u'hdfs://ip-10-95-184-251:9000/fuzzy/malegmwategmwate.2.jpg',\n",
       "    u'hdfs://ip-10-95-184-251:9000/imgs/malestaffmoorsmoors.2.jpg'),\n",
       "   (u'hdfs://ip-10-95-184-251:9000/fuzzy/malegmwategmwate.2.jpg',\n",
       "    u'hdfs://ip-10-95-184-251:9000/imgs/malestaffmoorsmoors.20.jpg'),\n",
       "   (u'hdfs://ip-10-95-184-251:9000/fuzzy/malegmwategmwate.2.jpg',\n",
       "    u'hdfs://ip-10-95-184-251:9000/imgs/malestaffmoorsmoors.8.jpg'),\n",
       "   (u'hdfs://ip-10-95-184-251:9000/fuzzy/malegmwategmwate.2.jpg',\n",
       "    u'hdfs://ip-10-95-184-251:9000/imgs/malestaffmoorsmoors.8.jpg'),\n",
       "   (u'hdfs://ip-10-95-184-251:9000/fuzzy/malegmwategmwate.2.jpg',\n",
       "    u'hdfs://ip-10-95-184-251:9000/imgs/malestaffmoorsmoors.9.jpg'),\n",
       "   (u'hdfs://ip-10-95-184-251:9000/fuzzy/malegmwategmwate.2.jpg',\n",
       "    u'hdfs://ip-10-95-184-251:9000/imgs/malestafftonytony.1.jpg'),\n",
       "   (u'hdfs://ip-10-95-184-251:9000/fuzzy/malegmwategmwate.2.jpg',\n",
       "    u'hdfs://ip-10-95-184-251:9000/imgs/malestafftonytony.1.jpg'),\n",
       "   (u'hdfs://ip-10-95-184-251:9000/fuzzy/malegmwategmwate.2.jpg',\n",
       "    u'hdfs://ip-10-95-184-251:9000/imgs/malestafftonytony.1.jpg'),\n",
       "   (u'hdfs://ip-10-95-184-251:9000/fuzzy/malegmwategmwate.2.jpg',\n",
       "    u'hdfs://ip-10-95-184-251:9000/imgs/malestafftonytony.13.jpg'),\n",
       "   (u'hdfs://ip-10-95-184-251:9000/fuzzy/malegmwategmwate.2.jpg',\n",
       "    u'hdfs://ip-10-95-184-251:9000/imgs/malestafftonytony.13.jpg'),\n",
       "   (u'hdfs://ip-10-95-184-251:9000/fuzzy/malegmwategmwate.2.jpg',\n",
       "    u'hdfs://ip-10-95-184-251:9000/imgs/malestafftonytony.2.jpg'),\n",
       "   (u'hdfs://ip-10-95-184-251:9000/fuzzy/malegmwategmwate.2.jpg',\n",
       "    u'hdfs://ip-10-95-184-251:9000/imgs/malestafftonytony.20.jpg'),\n",
       "   (u'hdfs://ip-10-95-184-251:9000/fuzzy/malekaatkikaatki.8.jpg',\n",
       "    u'hdfs://ip-10-95-184-251:9000/imgs/malestaffanonym2anonym2.11.jpg'),\n",
       "   (u'hdfs://ip-10-95-184-251:9000/fuzzy/malekaatkikaatki.8.jpg',\n",
       "    u'hdfs://ip-10-95-184-251:9000/imgs/malestaffanonym2anonym2.11.jpg'),\n",
       "   (u'hdfs://ip-10-95-184-251:9000/fuzzy/malekaatkikaatki.8.jpg',\n",
       "    u'hdfs://ip-10-95-184-251:9000/imgs/malestaffanonym2anonym2.12.jpg'),\n",
       "   (u'hdfs://ip-10-95-184-251:9000/fuzzy/malekaatkikaatki.8.jpg',\n",
       "    u'hdfs://ip-10-95-184-251:9000/imgs/malestaffanonym2anonym2.2.jpg'),\n",
       "   (u'hdfs://ip-10-95-184-251:9000/fuzzy/malekaatkikaatki.8.jpg',\n",
       "    u'hdfs://ip-10-95-184-251:9000/imgs/malestaffanonym2anonym2.6.jpg'),\n",
       "   (u'hdfs://ip-10-95-184-251:9000/fuzzy/malekaatkikaatki.8.jpg',\n",
       "    u'hdfs://ip-10-95-184-251:9000/imgs/malestaffanonym2anonym2.7.jpg'),\n",
       "   (u'hdfs://ip-10-95-184-251:9000/fuzzy/malekaatkikaatki.8.jpg',\n",
       "    u'hdfs://ip-10-95-184-251:9000/imgs/malestaffanonym2anonym2.8.jpg'),\n",
       "   (u'hdfs://ip-10-95-184-251:9000/fuzzy/malekaatkikaatki.8.jpg',\n",
       "    u'hdfs://ip-10-95-184-251:9000/imgs/malestaffcwangcwang.10.jpg'),\n",
       "   (u'hdfs://ip-10-95-184-251:9000/fuzzy/malekaatkikaatki.8.jpg',\n",
       "    u'hdfs://ip-10-95-184-251:9000/imgs/malestaffcwangcwang.11.jpg'),\n",
       "   (u'hdfs://ip-10-95-184-251:9000/fuzzy/malekaatkikaatki.8.jpg',\n",
       "    u'hdfs://ip-10-95-184-251:9000/imgs/malestaffieorfieorf.13.jpg'),\n",
       "   (u'hdfs://ip-10-95-184-251:9000/fuzzy/malekaatkikaatki.8.jpg',\n",
       "    u'hdfs://ip-10-95-184-251:9000/imgs/malestafflyondlyond.14.jpg'),\n",
       "   (u'hdfs://ip-10-95-184-251:9000/fuzzy/malekaatkikaatki.8.jpg',\n",
       "    u'hdfs://ip-10-95-184-251:9000/imgs/malestaffmichaelmichael.20.jpg'),\n",
       "   (u'hdfs://ip-10-95-184-251:9000/fuzzy/malekaatkikaatki.8.jpg',\n",
       "    u'hdfs://ip-10-95-184-251:9000/imgs/malestaffmichaelmichael.20.jpg'),\n",
       "   (u'hdfs://ip-10-95-184-251:9000/fuzzy/malekaatkikaatki.8.jpg',\n",
       "    u'hdfs://ip-10-95-184-251:9000/imgs/malestaffmichaelmichael.20.jpg'),\n",
       "   (u'hdfs://ip-10-95-184-251:9000/fuzzy/malekaatkikaatki.8.jpg',\n",
       "    u'hdfs://ip-10-95-184-251:9000/imgs/malestaffmichaelmichael.3.jpg'),\n",
       "   (u'hdfs://ip-10-95-184-251:9000/fuzzy/malekaatkikaatki.8.jpg',\n",
       "    u'hdfs://ip-10-95-184-251:9000/imgs/malestaffmoorsmoors.12.jpg'),\n",
       "   (u'hdfs://ip-10-95-184-251:9000/fuzzy/malekaatkikaatki.8.jpg',\n",
       "    u'hdfs://ip-10-95-184-251:9000/imgs/malestaffmoorsmoors.12.jpg'),\n",
       "   (u'hdfs://ip-10-95-184-251:9000/fuzzy/malekaatkikaatki.8.jpg',\n",
       "    u'hdfs://ip-10-95-184-251:9000/imgs/malestaffmoorsmoors.19.jpg'),\n",
       "   (u'hdfs://ip-10-95-184-251:9000/fuzzy/malekaatkikaatki.8.jpg',\n",
       "    u'hdfs://ip-10-95-184-251:9000/imgs/malestaffmoorsmoors.2.jpg'),\n",
       "   (u'hdfs://ip-10-95-184-251:9000/fuzzy/malekaatkikaatki.8.jpg',\n",
       "    u'hdfs://ip-10-95-184-251:9000/imgs/malestaffmoorsmoors.2.jpg'),\n",
       "   (u'hdfs://ip-10-95-184-251:9000/fuzzy/malekaatkikaatki.8.jpg',\n",
       "    u'hdfs://ip-10-95-184-251:9000/imgs/malestaffmoorsmoors.20.jpg'),\n",
       "   (u'hdfs://ip-10-95-184-251:9000/fuzzy/malekaatkikaatki.8.jpg',\n",
       "    u'hdfs://ip-10-95-184-251:9000/imgs/malestaffmoorsmoors.8.jpg'),\n",
       "   (u'hdfs://ip-10-95-184-251:9000/fuzzy/malekaatkikaatki.8.jpg',\n",
       "    u'hdfs://ip-10-95-184-251:9000/imgs/malestaffmoorsmoors.8.jpg'),\n",
       "   (u'hdfs://ip-10-95-184-251:9000/fuzzy/malekaatkikaatki.8.jpg',\n",
       "    u'hdfs://ip-10-95-184-251:9000/imgs/malestaffmoorsmoors.9.jpg'),\n",
       "   (u'hdfs://ip-10-95-184-251:9000/fuzzy/malekaatkikaatki.8.jpg',\n",
       "    u'hdfs://ip-10-95-184-251:9000/imgs/malestafftonytony.1.jpg'),\n",
       "   (u'hdfs://ip-10-95-184-251:9000/fuzzy/malekaatkikaatki.8.jpg',\n",
       "    u'hdfs://ip-10-95-184-251:9000/imgs/malestafftonytony.1.jpg'),\n",
       "   (u'hdfs://ip-10-95-184-251:9000/fuzzy/malekaatkikaatki.8.jpg',\n",
       "    u'hdfs://ip-10-95-184-251:9000/imgs/malestafftonytony.1.jpg'),\n",
       "   (u'hdfs://ip-10-95-184-251:9000/fuzzy/malekaatkikaatki.8.jpg',\n",
       "    u'hdfs://ip-10-95-184-251:9000/imgs/malestafftonytony.13.jpg'),\n",
       "   (u'hdfs://ip-10-95-184-251:9000/fuzzy/malekaatkikaatki.8.jpg',\n",
       "    u'hdfs://ip-10-95-184-251:9000/imgs/malestafftonytony.13.jpg'),\n",
       "   (u'hdfs://ip-10-95-184-251:9000/fuzzy/malekaatkikaatki.8.jpg',\n",
       "    u'hdfs://ip-10-95-184-251:9000/imgs/malestafftonytony.2.jpg'),\n",
       "   (u'hdfs://ip-10-95-184-251:9000/fuzzy/malekaatkikaatki.8.jpg',\n",
       "    u'hdfs://ip-10-95-184-251:9000/imgs/malestafftonytony.20.jpg'),\n",
       "   (u'hdfs://ip-10-95-184-251:9000/fuzzy/malekaatkikaatki.8.jpg',\n",
       "    u'hdfs://ip-10-95-184-251:9000/imgs/malestaffanonym2anonym2.11.jpg'),\n",
       "   (u'hdfs://ip-10-95-184-251:9000/fuzzy/malekaatkikaatki.8.jpg',\n",
       "    u'hdfs://ip-10-95-184-251:9000/imgs/malestaffanonym2anonym2.11.jpg'),\n",
       "   (u'hdfs://ip-10-95-184-251:9000/fuzzy/malekaatkikaatki.8.jpg',\n",
       "    u'hdfs://ip-10-95-184-251:9000/imgs/malestaffanonym2anonym2.12.jpg'),\n",
       "   (u'hdfs://ip-10-95-184-251:9000/fuzzy/malekaatkikaatki.8.jpg',\n",
       "    u'hdfs://ip-10-95-184-251:9000/imgs/malestaffanonym2anonym2.2.jpg'),\n",
       "   (u'hdfs://ip-10-95-184-251:9000/fuzzy/malekaatkikaatki.8.jpg',\n",
       "    u'hdfs://ip-10-95-184-251:9000/imgs/malestaffanonym2anonym2.6.jpg'),\n",
       "   (u'hdfs://ip-10-95-184-251:9000/fuzzy/malekaatkikaatki.8.jpg',\n",
       "    u'hdfs://ip-10-95-184-251:9000/imgs/malestaffanonym2anonym2.7.jpg'),\n",
       "   (u'hdfs://ip-10-95-184-251:9000/fuzzy/malekaatkikaatki.8.jpg',\n",
       "    u'hdfs://ip-10-95-184-251:9000/imgs/malestaffanonym2anonym2.8.jpg'),\n",
       "   (u'hdfs://ip-10-95-184-251:9000/fuzzy/malekaatkikaatki.8.jpg',\n",
       "    u'hdfs://ip-10-95-184-251:9000/imgs/malestaffcwangcwang.10.jpg'),\n",
       "   (u'hdfs://ip-10-95-184-251:9000/fuzzy/malekaatkikaatki.8.jpg',\n",
       "    u'hdfs://ip-10-95-184-251:9000/imgs/malestaffcwangcwang.11.jpg'),\n",
       "   (u'hdfs://ip-10-95-184-251:9000/fuzzy/malekaatkikaatki.8.jpg',\n",
       "    u'hdfs://ip-10-95-184-251:9000/imgs/malestaffieorfieorf.13.jpg'),\n",
       "   (u'hdfs://ip-10-95-184-251:9000/fuzzy/malekaatkikaatki.8.jpg',\n",
       "    u'hdfs://ip-10-95-184-251:9000/imgs/malestafflyondlyond.14.jpg'),\n",
       "   (u'hdfs://ip-10-95-184-251:9000/fuzzy/malekaatkikaatki.8.jpg',\n",
       "    u'hdfs://ip-10-95-184-251:9000/imgs/malestaffmichaelmichael.20.jpg'),\n",
       "   (u'hdfs://ip-10-95-184-251:9000/fuzzy/malekaatkikaatki.8.jpg',\n",
       "    u'hdfs://ip-10-95-184-251:9000/imgs/malestaffmichaelmichael.20.jpg'),\n",
       "   (u'hdfs://ip-10-95-184-251:9000/fuzzy/malekaatkikaatki.8.jpg',\n",
       "    u'hdfs://ip-10-95-184-251:9000/imgs/malestaffmichaelmichael.20.jpg'),\n",
       "   (u'hdfs://ip-10-95-184-251:9000/fuzzy/malekaatkikaatki.8.jpg',\n",
       "    u'hdfs://ip-10-95-184-251:9000/imgs/malestaffmichaelmichael.3.jpg'),\n",
       "   (u'hdfs://ip-10-95-184-251:9000/fuzzy/malekaatkikaatki.8.jpg',\n",
       "    u'hdfs://ip-10-95-184-251:9000/imgs/malestaffmoorsmoors.12.jpg'),\n",
       "   (u'hdfs://ip-10-95-184-251:9000/fuzzy/malekaatkikaatki.8.jpg',\n",
       "    u'hdfs://ip-10-95-184-251:9000/imgs/malestaffmoorsmoors.12.jpg'),\n",
       "   (u'hdfs://ip-10-95-184-251:9000/fuzzy/malekaatkikaatki.8.jpg',\n",
       "    u'hdfs://ip-10-95-184-251:9000/imgs/malestaffmoorsmoors.19.jpg'),\n",
       "   (u'hdfs://ip-10-95-184-251:9000/fuzzy/malekaatkikaatki.8.jpg',\n",
       "    u'hdfs://ip-10-95-184-251:9000/imgs/malestaffmoorsmoors.2.jpg'),\n",
       "   (u'hdfs://ip-10-95-184-251:9000/fuzzy/malekaatkikaatki.8.jpg',\n",
       "    u'hdfs://ip-10-95-184-251:9000/imgs/malestaffmoorsmoors.2.jpg'),\n",
       "   (u'hdfs://ip-10-95-184-251:9000/fuzzy/malekaatkikaatki.8.jpg',\n",
       "    u'hdfs://ip-10-95-184-251:9000/imgs/malestaffmoorsmoors.20.jpg'),\n",
       "   (u'hdfs://ip-10-95-184-251:9000/fuzzy/malekaatkikaatki.8.jpg',\n",
       "    u'hdfs://ip-10-95-184-251:9000/imgs/malestaffmoorsmoors.8.jpg'),\n",
       "   (u'hdfs://ip-10-95-184-251:9000/fuzzy/malekaatkikaatki.8.jpg',\n",
       "    u'hdfs://ip-10-95-184-251:9000/imgs/malestaffmoorsmoors.8.jpg'),\n",
       "   (u'hdfs://ip-10-95-184-251:9000/fuzzy/malekaatkikaatki.8.jpg',\n",
       "    u'hdfs://ip-10-95-184-251:9000/imgs/malestaffmoorsmoors.9.jpg'),\n",
       "   (u'hdfs://ip-10-95-184-251:9000/fuzzy/malekaatkikaatki.8.jpg',\n",
       "    u'hdfs://ip-10-95-184-251:9000/imgs/malestafftonytony.1.jpg'),\n",
       "   (u'hdfs://ip-10-95-184-251:9000/fuzzy/malekaatkikaatki.8.jpg',\n",
       "    u'hdfs://ip-10-95-184-251:9000/imgs/malestafftonytony.1.jpg'),\n",
       "   (u'hdfs://ip-10-95-184-251:9000/fuzzy/malekaatkikaatki.8.jpg',\n",
       "    u'hdfs://ip-10-95-184-251:9000/imgs/malestafftonytony.1.jpg'),\n",
       "   (u'hdfs://ip-10-95-184-251:9000/fuzzy/malekaatkikaatki.8.jpg',\n",
       "    u'hdfs://ip-10-95-184-251:9000/imgs/malestafftonytony.13.jpg'),\n",
       "   (u'hdfs://ip-10-95-184-251:9000/fuzzy/malekaatkikaatki.8.jpg',\n",
       "    u'hdfs://ip-10-95-184-251:9000/imgs/malestafftonytony.13.jpg'),\n",
       "   (u'hdfs://ip-10-95-184-251:9000/fuzzy/malekaatkikaatki.8.jpg',\n",
       "    u'hdfs://ip-10-95-184-251:9000/imgs/malestafftonytony.2.jpg'),\n",
       "   (u'hdfs://ip-10-95-184-251:9000/fuzzy/malekaatkikaatki.8.jpg',\n",
       "    u'hdfs://ip-10-95-184-251:9000/imgs/malestafftonytony.20.jpg')]),\n",
       " (7872854186025934548,\n",
       "  [(u'hdfs://ip-10-95-184-251:9000/fuzzy/femalembutlembutle.19.jpg',\n",
       "    u'hdfs://ip-10-95-184-251:9000/imgs/malestaffmartinmartin.1.jpg'),\n",
       "   (u'hdfs://ip-10-95-184-251:9000/fuzzy/femalembutlembutle.19.jpg',\n",
       "    u'hdfs://ip-10-95-184-251:9000/imgs/malestaffmartinmartin.3.jpg'),\n",
       "   (u'hdfs://ip-10-95-184-251:9000/fuzzy/femalembutlembutle.19.jpg',\n",
       "    u'hdfs://ip-10-95-184-251:9000/imgs/malestaffmartinmartin.5.jpg'),\n",
       "   (u'hdfs://ip-10-95-184-251:9000/fuzzy/male93385279338527.15.jpg',\n",
       "    u'hdfs://ip-10-95-184-251:9000/imgs/malestaffmartinmartin.1.jpg'),\n",
       "   (u'hdfs://ip-10-95-184-251:9000/fuzzy/male93385279338527.15.jpg',\n",
       "    u'hdfs://ip-10-95-184-251:9000/imgs/malestaffmartinmartin.3.jpg'),\n",
       "   (u'hdfs://ip-10-95-184-251:9000/fuzzy/male93385279338527.15.jpg',\n",
       "    u'hdfs://ip-10-95-184-251:9000/imgs/malestaffmartinmartin.5.jpg')]),\n",
       " (-7434824337793658859,\n",
       "  [(u'hdfs://ip-10-95-184-251:9000/fuzzy/femalembutlembutle.19.jpg',\n",
       "    u'hdfs://ip-10-95-184-251:9000/imgs/malestaffanonymanonym.12.jpg'),\n",
       "   (u'hdfs://ip-10-95-184-251:9000/fuzzy/femalembutlembutle.19.jpg',\n",
       "    u'hdfs://ip-10-95-184-251:9000/imgs/malestaffanonymanonym.18.jpg'),\n",
       "   (u'hdfs://ip-10-95-184-251:9000/fuzzy/femalembutlembutle.19.jpg',\n",
       "    u'hdfs://ip-10-95-184-251:9000/imgs/malestaffdorajdoraj.13.jpg'),\n",
       "   (u'hdfs://ip-10-95-184-251:9000/fuzzy/femalembutlembutle.19.jpg',\n",
       "    u'hdfs://ip-10-95-184-251:9000/imgs/malestafffordjfordj.1.jpg'),\n",
       "   (u'hdfs://ip-10-95-184-251:9000/fuzzy/femalembutlembutle.19.jpg',\n",
       "    u'hdfs://ip-10-95-184-251:9000/imgs/malestafffordjfordj.20.jpg'),\n",
       "   (u'hdfs://ip-10-95-184-251:9000/fuzzy/femalembutlembutle.19.jpg',\n",
       "    u'hdfs://ip-10-95-184-251:9000/imgs/malestafftonytony.9.jpg'),\n",
       "   (u'hdfs://ip-10-95-184-251:9000/fuzzy/male93384629338462.17.jpg',\n",
       "    u'hdfs://ip-10-95-184-251:9000/imgs/malestaffanonymanonym.12.jpg'),\n",
       "   (u'hdfs://ip-10-95-184-251:9000/fuzzy/male93384629338462.17.jpg',\n",
       "    u'hdfs://ip-10-95-184-251:9000/imgs/malestaffanonymanonym.18.jpg'),\n",
       "   (u'hdfs://ip-10-95-184-251:9000/fuzzy/male93384629338462.17.jpg',\n",
       "    u'hdfs://ip-10-95-184-251:9000/imgs/malestaffdorajdoraj.13.jpg'),\n",
       "   (u'hdfs://ip-10-95-184-251:9000/fuzzy/male93384629338462.17.jpg',\n",
       "    u'hdfs://ip-10-95-184-251:9000/imgs/malestafffordjfordj.1.jpg'),\n",
       "   (u'hdfs://ip-10-95-184-251:9000/fuzzy/male93384629338462.17.jpg',\n",
       "    u'hdfs://ip-10-95-184-251:9000/imgs/malestafffordjfordj.20.jpg'),\n",
       "   (u'hdfs://ip-10-95-184-251:9000/fuzzy/male93384629338462.17.jpg',\n",
       "    u'hdfs://ip-10-95-184-251:9000/imgs/malestafftonytony.9.jpg'),\n",
       "   (u'hdfs://ip-10-95-184-251:9000/fuzzy/malegmwategmwate.2.jpg',\n",
       "    u'hdfs://ip-10-95-184-251:9000/imgs/malestaffanonymanonym.12.jpg'),\n",
       "   (u'hdfs://ip-10-95-184-251:9000/fuzzy/malegmwategmwate.2.jpg',\n",
       "    u'hdfs://ip-10-95-184-251:9000/imgs/malestaffanonymanonym.18.jpg'),\n",
       "   (u'hdfs://ip-10-95-184-251:9000/fuzzy/malegmwategmwate.2.jpg',\n",
       "    u'hdfs://ip-10-95-184-251:9000/imgs/malestaffdorajdoraj.13.jpg'),\n",
       "   (u'hdfs://ip-10-95-184-251:9000/fuzzy/malegmwategmwate.2.jpg',\n",
       "    u'hdfs://ip-10-95-184-251:9000/imgs/malestafffordjfordj.1.jpg'),\n",
       "   (u'hdfs://ip-10-95-184-251:9000/fuzzy/malegmwategmwate.2.jpg',\n",
       "    u'hdfs://ip-10-95-184-251:9000/imgs/malestafffordjfordj.20.jpg'),\n",
       "   (u'hdfs://ip-10-95-184-251:9000/fuzzy/malegmwategmwate.2.jpg',\n",
       "    u'hdfs://ip-10-95-184-251:9000/imgs/malestafftonytony.9.jpg'),\n",
       "   (u'hdfs://ip-10-95-184-251:9000/fuzzy/malemhwillmhwill.5.jpg',\n",
       "    u'hdfs://ip-10-95-184-251:9000/imgs/malestaffanonymanonym.12.jpg'),\n",
       "   (u'hdfs://ip-10-95-184-251:9000/fuzzy/malemhwillmhwill.5.jpg',\n",
       "    u'hdfs://ip-10-95-184-251:9000/imgs/malestaffanonymanonym.18.jpg'),\n",
       "   (u'hdfs://ip-10-95-184-251:9000/fuzzy/malemhwillmhwill.5.jpg',\n",
       "    u'hdfs://ip-10-95-184-251:9000/imgs/malestaffdorajdoraj.13.jpg'),\n",
       "   (u'hdfs://ip-10-95-184-251:9000/fuzzy/malemhwillmhwill.5.jpg',\n",
       "    u'hdfs://ip-10-95-184-251:9000/imgs/malestafffordjfordj.1.jpg'),\n",
       "   (u'hdfs://ip-10-95-184-251:9000/fuzzy/malemhwillmhwill.5.jpg',\n",
       "    u'hdfs://ip-10-95-184-251:9000/imgs/malestafffordjfordj.20.jpg'),\n",
       "   (u'hdfs://ip-10-95-184-251:9000/fuzzy/malemhwillmhwill.5.jpg',\n",
       "    u'hdfs://ip-10-95-184-251:9000/imgs/malestafftonytony.9.jpg')])]"
      ]
     },
     "execution_count": 143,
     "metadata": {},
     "output_type": "execute_result"
    }
   ],
   "source": [
    "joined.groupByKey().map(lambda (key, value): (key, list(value))).take(4)"
   ]
  },
  {
   "cell_type": "markdown",
   "metadata": {},
   "source": [
    "### Explore_Spark_Results.ipynb in this directory goes further into the image example"
   ]
  },
  {
   "cell_type": "code",
   "execution_count": null,
   "metadata": {
    "collapsed": true
   },
   "outputs": [],
   "source": []
  }
 ],
 "metadata": {
  "kernelspec": {
   "display_name": "Python 2",
   "language": "python",
   "name": "python2"
  },
  "language_info": {
   "codemirror_mode": {
    "name": "ipython",
    "version": 2
   },
   "file_extension": ".py",
   "mimetype": "text/x-python",
   "name": "python",
   "nbconvert_exporter": "python",
   "pygments_lexer": "ipython2",
   "version": "2.7.10"
  }
 },
 "nbformat": 4,
 "nbformat_minor": 0
}
